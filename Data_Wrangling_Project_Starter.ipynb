{
 "cells": [
  {
   "cell_type": "markdown",
   "metadata": {
    "id": "GNIwe5N7s0e_"
   },
   "source": [
    "# Real-world Data Wrangling"
   ]
  },
  {
   "cell_type": "code",
   "execution_count": 1,
   "metadata": {},
   "outputs": [],
   "source": [
    "import requests\n",
    "from bs4 import BeautifulSoup\n",
    "import pandas as pd\n",
    "from datetime import datetime, timedelta\n",
    "import warnings\n",
    "import urllib3\n",
    "from sklearn.preprocessing import MinMaxScaler"
   ]
  },
  {
   "cell_type": "markdown",
   "metadata": {
    "id": "lDYDkH-Zs7Nn"
   },
   "source": [
    "## 1. Gather data\n"
   ]
  },
  {
   "cell_type": "markdown",
   "metadata": {
    "id": "LbN7z7rcuqpO"
   },
   "source": [
    "### **1.1.** Problem Statement\n",
    "This project investigates a potential correlation between the number of deaths by suicide and the size of the Powerball lottery jackpot. The hypothesis is that there may be an increase in the number of suicides when the jackpot size and value increase, potentially linked to heightened disappointment among those who do not win.\n",
    "\n",
    "While this is a sensitive and complex topic, it is crucial to explore if such a correlation exists, as it could have significant implications for public health and awareness. The investigation will be conducted with the utmost respect for the data and the lives tragically lost to suicide.\n",
    "\n",
    "Powerball no longer offers an API, and publicly available lottery datasets typically include only the date and winning numbers without the jackpot amount. Data will be scraped from the Powerball results website (https://www.powerball.com/draw-result?gc=powerball&date=2020-12-30) to obtain drawing dates and jackpot amounts.\n",
    "\n",
    "Mortality data, including deaths by suicide, will be sourced from the CDC's publicly accessible database (http://wonder.cdc.gov/wonder/), which offers detailed information on mortality causes. This data can be filtered by various factors to ensure comprehensive and accurate analysis.\n",
    "\n",
    "As the year range for the mortality data is limited, the powerball jackpot and results will be limited to only those years that CDC mortality data is available."
   ]
  },
  {
   "cell_type": "markdown",
   "metadata": {
    "id": "8AQfBAdUypMm"
   },
   "source": [
    "### **1.2.** Gathering Datasets"
   ]
  },
  {
   "cell_type": "markdown",
   "metadata": {
    "id": "7e6gS0wL1KTu"
   },
   "source": [
    "#### **Dataset 1: Powerball Jackpot Ammounts for Drawings from January 1999 to December 2020**\n",
    "\n",
    "Type: CSV\n",
    "\n",
    "Method: Using BeautifulSoup, the script extracts Powerball jackpot dollar amounts and drawing dates from the Powerball website (powerball.com) for dates ranging from January 2, 1999, to December 30, 2020 (to correspond to the date range for the second dataset). The results URL is formatted as follows: https://www.powerball.com/draw-result?gc=powerball&date=YYYY-MM-DD. Drawings take place on Monday, Wednesday, and Saturday. The script iterates from the start date to the end date, visiting the URL for each drawing day by iterating the YYYY-MM-DD portion of the URL. The extracted data includes the date and the estimated jackpot for each drawing. Each entry is then appended to a CSV file (powerball_results.csv) incrementally. SSL warnings are suppressed to maintain clean output.\n",
    "\n",
    "Dataset variables:\n",
    "- `Drawing Date`: \n",
    "    - Description: The date of the drawing. In instances where a drawing was skipped the powerball page loads data for the nearest date. Because of this there is duplicated data. \n",
    "    - Example: Sat, Jan 2, 1999\n",
    "- `Estimated Jackpot`: \n",
    "    - Description The estimated dollar amount of a jackpot, which is variable based on factors such as the number of tickets sold, and if no one wins the jackpot in previous drawings, the prize amount rolls over and is added to the next drawing's jackpot. \n",
    "    - Example: $40 Million"
   ]
  },
  {
   "cell_type": "code",
   "execution_count": 2,
   "metadata": {},
   "outputs": [],
   "source": [
    "###########################################\n",
    "#    ___   _  _   _ _____ ___ ___  _  _   #\n",
    "#   / __| /_\\| | | |_   _|_ _/ _ \\| \\| |  #\n",
    "#  | (__ / _ \\ |_| | | |  | | (_) | .` |  #\n",
    "#   \\___/_/ \\_\\___/  |_| |___\\___/|_|\\_|  #\n",
    "#                                         #\n",
    "###########################################\n",
    "# This cell can take up to an hour to run #\n",
    "###########################################\n",
    "                                                                                                          \n",
    "\n",
    "# Suppress only the specific InsecureRequestWarning from urllib3\n",
    "urllib3.disable_warnings(urllib3.exceptions.InsecureRequestWarning)\n",
    "warnings.simplefilter(\"ignore\", category=UserWarning)\n",
    "\n",
    "# Define the function to get Powerball data for a given date\n",
    "def get_powerball_data(date):\n",
    "    url = f'https://www.powerball.com/draw-result?gc=powerball&date={date}'\n",
    "    # {date} will be iteratively replaced with drawing dates within the range in a YYYY-MM-DD format\n",
    "    try:\n",
    "        response = requests.get(url, verify=False)\n",
    "        response.raise_for_status()  # Raise an HTTPError for bad responses (4xx and 5xx)\n",
    "        html_content = response.text\n",
    "\n",
    "        soup = BeautifulSoup(html_content, 'html.parser')\n",
    "\n",
    "        # Extract the Drawing Date\n",
    "        drawing_date = soup.find('h5', class_='title-date').text.strip()\n",
    "\n",
    "        # Extract the estimated jackpot\n",
    "        estimated_jackpot_div = soup.find('div', class_='estimated-jackpot')\n",
    "        estimated_jackpot = estimated_jackpot_div.find_all('span')[1].text.strip()\n",
    "\n",
    "        return {'Drawing Date': drawing_date, 'Estimated Jackpot': estimated_jackpot}\n",
    "    except requests.RequestException as e:\n",
    "        return {'Drawing Date': date, 'Estimated Jackpot': 'Error fetching data'}\n",
    "\n",
    "# Main function\n",
    "def main():\n",
    "    start_date = datetime(1999, 1, 2) # First drawing of 1999. If the script crashes this date can be adjusted to the last successfull\n",
    "    end_date = datetime(2020, 12, 30) # Last drawing of 2020\n",
    "    #Drawings take place only on Monday, Wednesday, and Saturday. Iterate just through dates that fall on these days of the week.\n",
    "    dates_to_check = [start_date + timedelta(days=x) for x in range((end_date - start_date).days + 1) if (start_date + timedelta(days=x)).weekday() in [0, 2, 5]]\n",
    "\n",
    "    # Initialize the DataFrame\n",
    "    results = []\n",
    "\n",
    "    for count, date in enumerate(dates_to_check, 1):\n",
    "        date_str = date.strftime('%Y-%m-%d')\n",
    "        data = get_powerball_data(date_str)\n",
    "        results.append(data)\n",
    "        print(f\"{count} of {len(dates_to_check)} - {date_str}: Estimated Jackpot - {data['Estimated Jackpot']}\")\n",
    "\n",
    "        # Append the new row to the CSV file\n",
    "        df = pd.DataFrame([data])\n",
    "        if count == 1:\n",
    "            df.to_csv('powerball_results.csv', index=False, mode='w', header=True)  # Write header only once\n",
    "        else:\n",
    "            df.to_csv('powerball_results.csv', index=False, mode='a', header=False)\n",
    "\n",
    "#run the main function\n",
    "main()\n",
    "\n"
   ]
  },
  {
   "cell_type": "code",
   "execution_count": 3,
   "metadata": {
    "scrolled": false
   },
   "outputs": [
    {
     "name": "stdout",
     "output_type": "stream",
     "text": [
      "Dataframe Shape: (3444, 2)\n"
     ]
    },
    {
     "data": {
      "text/html": [
       "<div>\n",
       "<style scoped>\n",
       "    .dataframe tbody tr th:only-of-type {\n",
       "        vertical-align: middle;\n",
       "    }\n",
       "\n",
       "    .dataframe tbody tr th {\n",
       "        vertical-align: top;\n",
       "    }\n",
       "\n",
       "    .dataframe thead th {\n",
       "        text-align: right;\n",
       "    }\n",
       "</style>\n",
       "<table border=\"1\" class=\"dataframe\">\n",
       "  <thead>\n",
       "    <tr style=\"text-align: right;\">\n",
       "      <th></th>\n",
       "      <th>Drawing Date</th>\n",
       "      <th>Estimated Jackpot</th>\n",
       "    </tr>\n",
       "  </thead>\n",
       "  <tbody>\n",
       "    <tr>\n",
       "      <th>0</th>\n",
       "      <td>Sat, Jan 2, 1999</td>\n",
       "      <td>$40 Million</td>\n",
       "    </tr>\n",
       "    <tr>\n",
       "      <th>1</th>\n",
       "      <td>Sat, Jan 2, 1999</td>\n",
       "      <td>$40 Million</td>\n",
       "    </tr>\n",
       "    <tr>\n",
       "      <th>2</th>\n",
       "      <td>Wed, Jan 6, 1999</td>\n",
       "      <td>$45 Million</td>\n",
       "    </tr>\n",
       "    <tr>\n",
       "      <th>3</th>\n",
       "      <td>Sat, Jan 9, 1999</td>\n",
       "      <td>$51 Million</td>\n",
       "    </tr>\n",
       "    <tr>\n",
       "      <th>4</th>\n",
       "      <td>Sat, Jan 9, 1999</td>\n",
       "      <td>$51 Million</td>\n",
       "    </tr>\n",
       "  </tbody>\n",
       "</table>\n",
       "</div>"
      ],
      "text/plain": [
       "       Drawing Date Estimated Jackpot\n",
       "0  Sat, Jan 2, 1999       $40 Million\n",
       "1  Sat, Jan 2, 1999       $40 Million\n",
       "2  Wed, Jan 6, 1999       $45 Million\n",
       "3  Sat, Jan 9, 1999       $51 Million\n",
       "4  Sat, Jan 9, 1999       $51 Million"
      ]
     },
     "execution_count": 3,
     "metadata": {},
     "output_type": "execute_result"
    }
   ],
   "source": [
    "# Load the powerball results into a DataFrame\n",
    "# Note: A copy of completed results were saved as completed powerball_results_copy.csv\n",
    "# and may be used to load data if powerball_results.csv is overridden.\n",
    "\n",
    "powerball_df = pd.read_csv('powerball_results_copy.csv') \n",
    "\n",
    "# Print the dataframe shape and first couple of rows for confirmation\n",
    "print('Dataframe Shape:',powerball_df.shape)\n",
    "powerball_df.head()"
   ]
  },
  {
   "cell_type": "markdown",
   "metadata": {
    "id": "hoUjq1tPzz7P"
   },
   "source": [
    "#### Dataset 2: Suicide Deaths in the United States from 1999 to 2020 adults from 18 to >100 Years Old\n",
    "Grouped by Years, Month, and Day of Week. All States.\n",
    "\n",
    "Type: txt file, tab seperated values.\n",
    "\n",
    "Method: Downloaded dataset from http://wonder.cdc.gov/wonder/\n",
    "\n",
    "Dataset variables:\n",
    "\n",
    "*   `Notes`: Not applicable to this dataset\n",
    "*   `Year`: Year of deaths (e.g. 1999)\n",
    "*   `Year Code`: Encoded Year (e.g. 1999)\n",
    "*   `Month`: Month and Year (e.g. Jan., 1999)\n",
    "*   `Month Code`: Endcoded month (e.g. 1999/01)\n",
    "*   `Weekday`: Day of Week on which the death occurred\n",
    "*   `Weekday Code`: Encoded Weekday (1-7), (e.g. 1)\n",
    "*   `Deaths`: Number of Deaths for each grouping\n",
    "*   `Population`: Not applicable to this dataset\n",
    "*   `Crude Rate`: Not applicable to this dataset"
   ]
  },
  {
   "cell_type": "markdown",
   "metadata": {},
   "source": [
    "Information from Dataset:\n",
    "Dataset: Multiple Cause of Death, 1999-2020\n",
    "Query Parameters:\n",
    "Single-Year Ages: 18 years to 100+ years\n",
    "UCD - Injury Intent: Suicide\n",
    "Group By: Year; Month; Weekday\n",
    "Show Totals: Disabled\n",
    "Show Zero Values: True\n",
    "Show Suppressed: False\n",
    "Calculate Rates Per: 1,000\n",
    "Rate Options: Default intercensal populations for years 2001-2009 (except Infant Age Groups)\n",
    "\n",
    "Query Date: Jul 16, 2024 6:37:30 PM\n",
    "\n",
    "Source: Centers for Disease Control and Prevention, National Center for Health Statistics. National Vital Statistics\n",
    "System, Mortality 1999-2020 on CDC WONDER Online Database, released in 2021. Data are from the Multiple Cause of Death Files,\n",
    "1999-2020, as compiled from data provided by the 57 vital statistics jurisdictions through the Vital Statistics Cooperative\n",
    "Program. Accessed at http://wonder.cdc.gov/mcd-icd10.html on Jul 16, 2024 6:37:30 PM"
   ]
  },
  {
   "cell_type": "code",
   "execution_count": 4,
   "metadata": {
    "id": "6zT0QxRyYmm7",
    "scrolled": true
   },
   "outputs": [
    {
     "name": "stdout",
     "output_type": "stream",
     "text": [
      "Shape of Dataframe: (1968, 10)\n"
     ]
    },
    {
     "data": {
      "text/html": [
       "<div>\n",
       "<style scoped>\n",
       "    .dataframe tbody tr th:only-of-type {\n",
       "        vertical-align: middle;\n",
       "    }\n",
       "\n",
       "    .dataframe tbody tr th {\n",
       "        vertical-align: top;\n",
       "    }\n",
       "\n",
       "    .dataframe thead th {\n",
       "        text-align: right;\n",
       "    }\n",
       "</style>\n",
       "<table border=\"1\" class=\"dataframe\">\n",
       "  <thead>\n",
       "    <tr style=\"text-align: right;\">\n",
       "      <th></th>\n",
       "      <th>Notes</th>\n",
       "      <th>Year</th>\n",
       "      <th>Year Code</th>\n",
       "      <th>Month</th>\n",
       "      <th>Month Code</th>\n",
       "      <th>Weekday</th>\n",
       "      <th>Weekday Code</th>\n",
       "      <th>Deaths</th>\n",
       "      <th>Population</th>\n",
       "      <th>Crude Rate</th>\n",
       "    </tr>\n",
       "  </thead>\n",
       "  <tbody>\n",
       "    <tr>\n",
       "      <th>0</th>\n",
       "      <td>NaN</td>\n",
       "      <td>1999</td>\n",
       "      <td>1999</td>\n",
       "      <td>Jan., 1999</td>\n",
       "      <td>1999/01</td>\n",
       "      <td>Sunday</td>\n",
       "      <td>1</td>\n",
       "      <td>367</td>\n",
       "      <td>Not Applicable</td>\n",
       "      <td>Not Applicable</td>\n",
       "    </tr>\n",
       "    <tr>\n",
       "      <th>1</th>\n",
       "      <td>NaN</td>\n",
       "      <td>1999</td>\n",
       "      <td>1999</td>\n",
       "      <td>Jan., 1999</td>\n",
       "      <td>1999/01</td>\n",
       "      <td>Monday</td>\n",
       "      <td>2</td>\n",
       "      <td>356</td>\n",
       "      <td>Not Applicable</td>\n",
       "      <td>Not Applicable</td>\n",
       "    </tr>\n",
       "    <tr>\n",
       "      <th>2</th>\n",
       "      <td>NaN</td>\n",
       "      <td>1999</td>\n",
       "      <td>1999</td>\n",
       "      <td>Jan., 1999</td>\n",
       "      <td>1999/01</td>\n",
       "      <td>Tuesday</td>\n",
       "      <td>3</td>\n",
       "      <td>321</td>\n",
       "      <td>Not Applicable</td>\n",
       "      <td>Not Applicable</td>\n",
       "    </tr>\n",
       "    <tr>\n",
       "      <th>3</th>\n",
       "      <td>NaN</td>\n",
       "      <td>1999</td>\n",
       "      <td>1999</td>\n",
       "      <td>Jan., 1999</td>\n",
       "      <td>1999/01</td>\n",
       "      <td>Wednesday</td>\n",
       "      <td>4</td>\n",
       "      <td>321</td>\n",
       "      <td>Not Applicable</td>\n",
       "      <td>Not Applicable</td>\n",
       "    </tr>\n",
       "    <tr>\n",
       "      <th>4</th>\n",
       "      <td>NaN</td>\n",
       "      <td>1999</td>\n",
       "      <td>1999</td>\n",
       "      <td>Jan., 1999</td>\n",
       "      <td>1999/01</td>\n",
       "      <td>Thursday</td>\n",
       "      <td>5</td>\n",
       "      <td>326</td>\n",
       "      <td>Not Applicable</td>\n",
       "      <td>Not Applicable</td>\n",
       "    </tr>\n",
       "  </tbody>\n",
       "</table>\n",
       "</div>"
      ],
      "text/plain": [
       "   Notes  Year  Year Code       Month Month Code    Weekday  Weekday Code  \\\n",
       "0    NaN  1999       1999  Jan., 1999    1999/01     Sunday             1   \n",
       "1    NaN  1999       1999  Jan., 1999    1999/01     Monday             2   \n",
       "2    NaN  1999       1999  Jan., 1999    1999/01    Tuesday             3   \n",
       "3    NaN  1999       1999  Jan., 1999    1999/01  Wednesday             4   \n",
       "4    NaN  1999       1999  Jan., 1999    1999/01   Thursday             5   \n",
       "\n",
       "   Deaths      Population      Crude Rate  \n",
       "0     367  Not Applicable  Not Applicable  \n",
       "1     356  Not Applicable  Not Applicable  \n",
       "2     321  Not Applicable  Not Applicable  \n",
       "3     321  Not Applicable  Not Applicable  \n",
       "4     326  Not Applicable  Not Applicable  "
      ]
     },
     "execution_count": 4,
     "metadata": {},
     "output_type": "execute_result"
    }
   ],
   "source": [
    "# Create a DataFrame for the Suicide Deaths dataset\n",
    "deaths_df = pd.read_table('Multiple Cause of Death, 1999-2020.txt', delimiter='\\t')\n",
    "\n",
    "# Print the shape and first few rows of the dataset for confirmation.\n",
    "print('Shape of Dataframe:', deaths_df.shape)\n",
    "deaths_df.head()"
   ]
  },
  {
   "cell_type": "markdown",
   "metadata": {
    "id": "QwSWIVmotLgV"
   },
   "source": [
    "## 2. Assess data"
   ]
  },
  {
   "cell_type": "markdown",
   "metadata": {},
   "source": [
    "### Visual Assessment of Dataset 1 `powerball_df`"
   ]
  },
  {
   "cell_type": "markdown",
   "metadata": {},
   "source": [
    "Inspect `powerball_df` with `.head(10)` `.sample(15)`  and `tail(10)`"
   ]
  },
  {
   "cell_type": "code",
   "execution_count": 5,
   "metadata": {
    "scrolled": true
   },
   "outputs": [
    {
     "data": {
      "text/html": [
       "<div>\n",
       "<style scoped>\n",
       "    .dataframe tbody tr th:only-of-type {\n",
       "        vertical-align: middle;\n",
       "    }\n",
       "\n",
       "    .dataframe tbody tr th {\n",
       "        vertical-align: top;\n",
       "    }\n",
       "\n",
       "    .dataframe thead th {\n",
       "        text-align: right;\n",
       "    }\n",
       "</style>\n",
       "<table border=\"1\" class=\"dataframe\">\n",
       "  <thead>\n",
       "    <tr style=\"text-align: right;\">\n",
       "      <th></th>\n",
       "      <th>Drawing Date</th>\n",
       "      <th>Estimated Jackpot</th>\n",
       "    </tr>\n",
       "  </thead>\n",
       "  <tbody>\n",
       "    <tr>\n",
       "      <th>0</th>\n",
       "      <td>Sat, Jan 2, 1999</td>\n",
       "      <td>$40 Million</td>\n",
       "    </tr>\n",
       "    <tr>\n",
       "      <th>1</th>\n",
       "      <td>Sat, Jan 2, 1999</td>\n",
       "      <td>$40 Million</td>\n",
       "    </tr>\n",
       "    <tr>\n",
       "      <th>2</th>\n",
       "      <td>Wed, Jan 6, 1999</td>\n",
       "      <td>$45 Million</td>\n",
       "    </tr>\n",
       "    <tr>\n",
       "      <th>3</th>\n",
       "      <td>Sat, Jan 9, 1999</td>\n",
       "      <td>$51 Million</td>\n",
       "    </tr>\n",
       "    <tr>\n",
       "      <th>4</th>\n",
       "      <td>Sat, Jan 9, 1999</td>\n",
       "      <td>$51 Million</td>\n",
       "    </tr>\n",
       "    <tr>\n",
       "      <th>5</th>\n",
       "      <td>Wed, Jan 13, 1999</td>\n",
       "      <td>$58 Million</td>\n",
       "    </tr>\n",
       "    <tr>\n",
       "      <th>6</th>\n",
       "      <td>Sat, Jan 16, 1999</td>\n",
       "      <td>$67 Million</td>\n",
       "    </tr>\n",
       "    <tr>\n",
       "      <th>7</th>\n",
       "      <td>Sat, Jan 16, 1999</td>\n",
       "      <td>$67 Million</td>\n",
       "    </tr>\n",
       "    <tr>\n",
       "      <th>8</th>\n",
       "      <td>Wed, Jan 20, 1999</td>\n",
       "      <td>$10 Million</td>\n",
       "    </tr>\n",
       "    <tr>\n",
       "      <th>9</th>\n",
       "      <td>Sat, Jan 23, 1999</td>\n",
       "      <td>$12 Million</td>\n",
       "    </tr>\n",
       "  </tbody>\n",
       "</table>\n",
       "</div>"
      ],
      "text/plain": [
       "        Drawing Date Estimated Jackpot\n",
       "0   Sat, Jan 2, 1999       $40 Million\n",
       "1   Sat, Jan 2, 1999       $40 Million\n",
       "2   Wed, Jan 6, 1999       $45 Million\n",
       "3   Sat, Jan 9, 1999       $51 Million\n",
       "4   Sat, Jan 9, 1999       $51 Million\n",
       "5  Wed, Jan 13, 1999       $58 Million\n",
       "6  Sat, Jan 16, 1999       $67 Million\n",
       "7  Sat, Jan 16, 1999       $67 Million\n",
       "8  Wed, Jan 20, 1999       $10 Million\n",
       "9  Sat, Jan 23, 1999       $12 Million"
      ]
     },
     "execution_count": 5,
     "metadata": {},
     "output_type": "execute_result"
    }
   ],
   "source": [
    "powerball_df.head(10)"
   ]
  },
  {
   "cell_type": "code",
   "execution_count": 6,
   "metadata": {
    "scrolled": true
   },
   "outputs": [
    {
     "data": {
      "text/html": [
       "<div>\n",
       "<style scoped>\n",
       "    .dataframe tbody tr th:only-of-type {\n",
       "        vertical-align: middle;\n",
       "    }\n",
       "\n",
       "    .dataframe tbody tr th {\n",
       "        vertical-align: top;\n",
       "    }\n",
       "\n",
       "    .dataframe thead th {\n",
       "        text-align: right;\n",
       "    }\n",
       "</style>\n",
       "<table border=\"1\" class=\"dataframe\">\n",
       "  <thead>\n",
       "    <tr style=\"text-align: right;\">\n",
       "      <th></th>\n",
       "      <th>Drawing Date</th>\n",
       "      <th>Estimated Jackpot</th>\n",
       "    </tr>\n",
       "  </thead>\n",
       "  <tbody>\n",
       "    <tr>\n",
       "      <th>2034</th>\n",
       "      <td>Sat, Dec 31, 2011</td>\n",
       "      <td>$25 Million</td>\n",
       "    </tr>\n",
       "    <tr>\n",
       "      <th>3289</th>\n",
       "      <td>Sat, Jan 4, 2020</td>\n",
       "      <td>$240 Million</td>\n",
       "    </tr>\n",
       "    <tr>\n",
       "      <th>3272</th>\n",
       "      <td>Wed, Nov 27, 2019</td>\n",
       "      <td>$100 Million</td>\n",
       "    </tr>\n",
       "    <tr>\n",
       "      <th>2212</th>\n",
       "      <td>Sat, Feb 16, 2013</td>\n",
       "      <td>$60 Million</td>\n",
       "    </tr>\n",
       "    <tr>\n",
       "      <th>739</th>\n",
       "      <td>Sat, Sep 20, 2003</td>\n",
       "      <td>$43 Million</td>\n",
       "    </tr>\n",
       "    <tr>\n",
       "      <th>416</th>\n",
       "      <td>Wed, Aug 29, 2001</td>\n",
       "      <td>$10 Million</td>\n",
       "    </tr>\n",
       "    <tr>\n",
       "      <th>704</th>\n",
       "      <td>Wed, Jul 2, 2003</td>\n",
       "      <td>$160 Million</td>\n",
       "    </tr>\n",
       "    <tr>\n",
       "      <th>2666</th>\n",
       "      <td>Wed, Jan 13, 2016</td>\n",
       "      <td>$1.59 Billion</td>\n",
       "    </tr>\n",
       "    <tr>\n",
       "      <th>3364</th>\n",
       "      <td>Sat, Jun 27, 2020</td>\n",
       "      <td>$43 Million</td>\n",
       "    </tr>\n",
       "    <tr>\n",
       "      <th>627</th>\n",
       "      <td>Sat, Jan 4, 2003</td>\n",
       "      <td>$23 Million</td>\n",
       "    </tr>\n",
       "    <tr>\n",
       "      <th>2479</th>\n",
       "      <td>Sat, Nov 1, 2014</td>\n",
       "      <td>$160 Million</td>\n",
       "    </tr>\n",
       "    <tr>\n",
       "      <th>1159</th>\n",
       "      <td>Sat, May 27, 2006</td>\n",
       "      <td>$28 Million</td>\n",
       "    </tr>\n",
       "    <tr>\n",
       "      <th>833</th>\n",
       "      <td>Wed, Apr 28, 2004</td>\n",
       "      <td>$123 Million</td>\n",
       "    </tr>\n",
       "    <tr>\n",
       "      <th>1435</th>\n",
       "      <td>Sat, Mar 1, 2008</td>\n",
       "      <td>$153 Million</td>\n",
       "    </tr>\n",
       "    <tr>\n",
       "      <th>2382</th>\n",
       "      <td>Sat, Mar 22, 2014</td>\n",
       "      <td>$97 Million</td>\n",
       "    </tr>\n",
       "  </tbody>\n",
       "</table>\n",
       "</div>"
      ],
      "text/plain": [
       "           Drawing Date Estimated Jackpot\n",
       "2034  Sat, Dec 31, 2011       $25 Million\n",
       "3289   Sat, Jan 4, 2020      $240 Million\n",
       "3272  Wed, Nov 27, 2019      $100 Million\n",
       "2212  Sat, Feb 16, 2013       $60 Million\n",
       "739   Sat, Sep 20, 2003       $43 Million\n",
       "416   Wed, Aug 29, 2001       $10 Million\n",
       "704    Wed, Jul 2, 2003      $160 Million\n",
       "2666  Wed, Jan 13, 2016     $1.59 Billion\n",
       "3364  Sat, Jun 27, 2020       $43 Million\n",
       "627    Sat, Jan 4, 2003       $23 Million\n",
       "2479   Sat, Nov 1, 2014      $160 Million\n",
       "1159  Sat, May 27, 2006       $28 Million\n",
       "833   Wed, Apr 28, 2004      $123 Million\n",
       "1435   Sat, Mar 1, 2008      $153 Million\n",
       "2382  Sat, Mar 22, 2014       $97 Million"
      ]
     },
     "execution_count": 6,
     "metadata": {},
     "output_type": "execute_result"
    }
   ],
   "source": [
    "powerball_df.sample(15, random_state=916)"
   ]
  },
  {
   "cell_type": "code",
   "execution_count": 7,
   "metadata": {
    "scrolled": true
   },
   "outputs": [
    {
     "data": {
      "text/html": [
       "<div>\n",
       "<style scoped>\n",
       "    .dataframe tbody tr th:only-of-type {\n",
       "        vertical-align: middle;\n",
       "    }\n",
       "\n",
       "    .dataframe tbody tr th {\n",
       "        vertical-align: top;\n",
       "    }\n",
       "\n",
       "    .dataframe thead th {\n",
       "        text-align: right;\n",
       "    }\n",
       "</style>\n",
       "<table border=\"1\" class=\"dataframe\">\n",
       "  <thead>\n",
       "    <tr style=\"text-align: right;\">\n",
       "      <th></th>\n",
       "      <th>Drawing Date</th>\n",
       "      <th>Estimated Jackpot</th>\n",
       "    </tr>\n",
       "  </thead>\n",
       "  <tbody>\n",
       "    <tr>\n",
       "      <th>3434</th>\n",
       "      <td>Wed, Dec 9, 2020</td>\n",
       "      <td>$262 Million</td>\n",
       "    </tr>\n",
       "    <tr>\n",
       "      <th>3435</th>\n",
       "      <td>Sat, Dec 12, 2020</td>\n",
       "      <td>$272 Million</td>\n",
       "    </tr>\n",
       "    <tr>\n",
       "      <th>3436</th>\n",
       "      <td>Sat, Dec 12, 2020</td>\n",
       "      <td>$272 Million</td>\n",
       "    </tr>\n",
       "    <tr>\n",
       "      <th>3437</th>\n",
       "      <td>Wed, Dec 16, 2020</td>\n",
       "      <td>$286 Million</td>\n",
       "    </tr>\n",
       "    <tr>\n",
       "      <th>3438</th>\n",
       "      <td>Sat, Dec 19, 2020</td>\n",
       "      <td>$306 Million</td>\n",
       "    </tr>\n",
       "    <tr>\n",
       "      <th>3439</th>\n",
       "      <td>Sat, Dec 19, 2020</td>\n",
       "      <td>$306 Million</td>\n",
       "    </tr>\n",
       "    <tr>\n",
       "      <th>3440</th>\n",
       "      <td>Wed, Dec 23, 2020</td>\n",
       "      <td>$325 Million</td>\n",
       "    </tr>\n",
       "    <tr>\n",
       "      <th>3441</th>\n",
       "      <td>Sat, Dec 26, 2020</td>\n",
       "      <td>$343 Million</td>\n",
       "    </tr>\n",
       "    <tr>\n",
       "      <th>3442</th>\n",
       "      <td>Sat, Dec 26, 2020</td>\n",
       "      <td>$343 Million</td>\n",
       "    </tr>\n",
       "    <tr>\n",
       "      <th>3443</th>\n",
       "      <td>Wed, Dec 30, 2020</td>\n",
       "      <td>$365 Million</td>\n",
       "    </tr>\n",
       "  </tbody>\n",
       "</table>\n",
       "</div>"
      ],
      "text/plain": [
       "           Drawing Date Estimated Jackpot\n",
       "3434   Wed, Dec 9, 2020      $262 Million\n",
       "3435  Sat, Dec 12, 2020      $272 Million\n",
       "3436  Sat, Dec 12, 2020      $272 Million\n",
       "3437  Wed, Dec 16, 2020      $286 Million\n",
       "3438  Sat, Dec 19, 2020      $306 Million\n",
       "3439  Sat, Dec 19, 2020      $306 Million\n",
       "3440  Wed, Dec 23, 2020      $325 Million\n",
       "3441  Sat, Dec 26, 2020      $343 Million\n",
       "3442  Sat, Dec 26, 2020      $343 Million\n",
       "3443  Wed, Dec 30, 2020      $365 Million"
      ]
     },
     "execution_count": 7,
     "metadata": {},
     "output_type": "execute_result"
    }
   ],
   "source": [
    "powerball_df.tail(10)"
   ]
  },
  {
   "cell_type": "markdown",
   "metadata": {},
   "source": [
    "Visual inspection of the data shows consistency in the usage of columns, where data types match. Duplication of rows is evident in the head and tail. Inconsistency of unit of measure in the `Estimated Jackpot` column is observed in the sampling."
   ]
  },
  {
   "cell_type": "markdown",
   "metadata": {},
   "source": [
    "### Programaitc Assessment of Dataset 1 `powerball_df`"
   ]
  },
  {
   "cell_type": "code",
   "execution_count": 8,
   "metadata": {},
   "outputs": [
    {
     "data": {
      "text/plain": [
       "array(['Million', 'Billion'], dtype=object)"
      ]
     },
     "execution_count": 8,
     "metadata": {},
     "output_type": "execute_result"
    }
   ],
   "source": [
    "# Search for all labels in the estimated jackpot column\n",
    "powerball_df['Estimated Jackpot'].str.extractall(r'([a-zA-Z]+)')[0].unique()"
   ]
  },
  {
   "cell_type": "code",
   "execution_count": 9,
   "metadata": {
    "scrolled": true
   },
   "outputs": [
    {
     "data": {
      "text/html": [
       "<div>\n",
       "<style scoped>\n",
       "    .dataframe tbody tr th:only-of-type {\n",
       "        vertical-align: middle;\n",
       "    }\n",
       "\n",
       "    .dataframe tbody tr th {\n",
       "        vertical-align: top;\n",
       "    }\n",
       "\n",
       "    .dataframe thead th {\n",
       "        text-align: right;\n",
       "    }\n",
       "</style>\n",
       "<table border=\"1\" class=\"dataframe\">\n",
       "  <thead>\n",
       "    <tr style=\"text-align: right;\">\n",
       "      <th></th>\n",
       "      <th>Drawing Date</th>\n",
       "      <th>Estimated Jackpot</th>\n",
       "    </tr>\n",
       "  </thead>\n",
       "  <tbody>\n",
       "    <tr>\n",
       "      <th>2666</th>\n",
       "      <td>Wed, Jan 13, 2016</td>\n",
       "      <td>$1.59 Billion</td>\n",
       "    </tr>\n",
       "  </tbody>\n",
       "</table>\n",
       "</div>"
      ],
      "text/plain": [
       "           Drawing Date Estimated Jackpot\n",
       "2666  Wed, Jan 13, 2016     $1.59 Billion"
      ]
     },
     "execution_count": 9,
     "metadata": {},
     "output_type": "execute_result"
    }
   ],
   "source": [
    "# Get the rows that have \"Billion\" in the estimated Jackpot column\n",
    "powerball_df.query('`Estimated Jackpot`.str.contains(\"Billion\")')"
   ]
  },
  {
   "cell_type": "code",
   "execution_count": 10,
   "metadata": {
    "scrolled": true
   },
   "outputs": [
    {
     "name": "stdout",
     "output_type": "stream",
     "text": [
      "Number of 'Million' instances: 3443\n",
      "Number of 'Billion' instances: 1\n",
      "Sum of 'Million' and 'Billion' instances: 3444\n",
      "Total rows: 3444\n"
     ]
    }
   ],
   "source": [
    "# Count total number of instances of million, billion, and total rows to make sure there are no other units.\n",
    "sum_millions = powerball_df['Estimated Jackpot'].str.contains('Million').sum()\n",
    "sum_billions = powerball_df['Estimated Jackpot'].str.contains('Billion').sum()\n",
    "sum_millions_billions = sum_millions + sum_billions\n",
    "\n",
    "# Print the tally of millions and billions\n",
    "print(f\"Number of 'Million' instances: {sum_millions}\")\n",
    "print(f\"Number of 'Billion' instances: {sum_billions}\")\n",
    "\n",
    "# Ensure there are no other units\n",
    "assert sum_millions_billions == len(powerball_df), \"There are other units besides 'Million' and 'Billion' in the dataset.\"\n",
    "\n",
    "# Print the total number of rows\n",
    "print(f\"Sum of 'Million' and 'Billion' instances: {sum_millions_billions}\")\n",
    "print(f\"Total rows: {len(powerball_df)}\")\n",
    "\n"
   ]
  },
  {
   "cell_type": "markdown",
   "metadata": {},
   "source": [
    "Data labels 'Million' and 'Billion' are present in the `Estimated Jackpot` column."
   ]
  },
  {
   "cell_type": "code",
   "execution_count": 11,
   "metadata": {
    "scrolled": true
   },
   "outputs": [
    {
     "name": "stdout",
     "output_type": "stream",
     "text": [
      "<class 'pandas.core.frame.DataFrame'>\n",
      "RangeIndex: 3444 entries, 0 to 3443\n",
      "Data columns (total 2 columns):\n",
      " #   Column             Non-Null Count  Dtype \n",
      "---  ------             --------------  ----- \n",
      " 0   Drawing Date       3444 non-null   object\n",
      " 1   Estimated Jackpot  3444 non-null   object\n",
      "dtypes: object(2)\n",
      "memory usage: 53.9+ KB\n"
     ]
    }
   ],
   "source": [
    "# Get Information about the Dataset\n",
    "powerball_df.info()"
   ]
  },
  {
   "cell_type": "code",
   "execution_count": 12,
   "metadata": {},
   "outputs": [
    {
     "data": {
      "text/plain": [
       "0"
      ]
     },
     "execution_count": 12,
     "metadata": {},
     "output_type": "execute_result"
    }
   ],
   "source": [
    "# Check for null values\n",
    "powerball_df.isnull().sum().sum()"
   ]
  },
  {
   "cell_type": "markdown",
   "metadata": {},
   "source": [
    "No null values found!"
   ]
  },
  {
   "cell_type": "code",
   "execution_count": 13,
   "metadata": {
    "scrolled": true
   },
   "outputs": [
    {
     "data": {
      "text/plain": [
       "1148"
      ]
     },
     "execution_count": 13,
     "metadata": {},
     "output_type": "execute_result"
    }
   ],
   "source": [
    "#Check for duplicates\n",
    "powerball_df.duplicated().sum()"
   ]
  },
  {
   "cell_type": "markdown",
   "metadata": {},
   "source": [
    "1148 total duplicates found."
   ]
  },
  {
   "cell_type": "code",
   "execution_count": 14,
   "metadata": {},
   "outputs": [
    {
     "data": {
      "text/html": [
       "<div>\n",
       "<style scoped>\n",
       "    .dataframe tbody tr th:only-of-type {\n",
       "        vertical-align: middle;\n",
       "    }\n",
       "\n",
       "    .dataframe tbody tr th {\n",
       "        vertical-align: top;\n",
       "    }\n",
       "\n",
       "    .dataframe thead th {\n",
       "        text-align: right;\n",
       "    }\n",
       "</style>\n",
       "<table border=\"1\" class=\"dataframe\">\n",
       "  <thead>\n",
       "    <tr style=\"text-align: right;\">\n",
       "      <th></th>\n",
       "      <th>Drawing Date</th>\n",
       "      <th>Estimated Jackpot</th>\n",
       "    </tr>\n",
       "  </thead>\n",
       "  <tbody>\n",
       "    <tr>\n",
       "      <th>count</th>\n",
       "      <td>3444</td>\n",
       "      <td>3444</td>\n",
       "    </tr>\n",
       "    <tr>\n",
       "      <th>unique</th>\n",
       "      <td>2296</td>\n",
       "      <td>334</td>\n",
       "    </tr>\n",
       "    <tr>\n",
       "      <th>top</th>\n",
       "      <td>Sat, Jan 2, 1999</td>\n",
       "      <td>$40 Million</td>\n",
       "    </tr>\n",
       "    <tr>\n",
       "      <th>freq</th>\n",
       "      <td>2</td>\n",
       "      <td>146</td>\n",
       "    </tr>\n",
       "  </tbody>\n",
       "</table>\n",
       "</div>"
      ],
      "text/plain": [
       "            Drawing Date Estimated Jackpot\n",
       "count               3444              3444\n",
       "unique              2296               334\n",
       "top     Sat, Jan 2, 1999       $40 Million\n",
       "freq                   2               146"
      ]
     },
     "execution_count": 14,
     "metadata": {},
     "output_type": "execute_result"
    }
   ],
   "source": [
    "powerball_df.describe()"
   ]
  },
  {
   "cell_type": "markdown",
   "metadata": {},
   "source": [
    "Because the dates and esitmated jackpot values are stored as objects descriptive statistics are not available. Both fields should be converted to relevant data types, and reassed."
   ]
  },
  {
   "cell_type": "markdown",
   "metadata": {},
   "source": [
    "### Visual Assessment of Dataset 2 `deaths_df`"
   ]
  },
  {
   "cell_type": "markdown",
   "metadata": {},
   "source": [
    "Inspect `deaths_df` with `.head(10)` `.sample(15)`  and `tail(10)`"
   ]
  },
  {
   "cell_type": "code",
   "execution_count": 15,
   "metadata": {
    "scrolled": true
   },
   "outputs": [
    {
     "data": {
      "text/html": [
       "<div>\n",
       "<style scoped>\n",
       "    .dataframe tbody tr th:only-of-type {\n",
       "        vertical-align: middle;\n",
       "    }\n",
       "\n",
       "    .dataframe tbody tr th {\n",
       "        vertical-align: top;\n",
       "    }\n",
       "\n",
       "    .dataframe thead th {\n",
       "        text-align: right;\n",
       "    }\n",
       "</style>\n",
       "<table border=\"1\" class=\"dataframe\">\n",
       "  <thead>\n",
       "    <tr style=\"text-align: right;\">\n",
       "      <th></th>\n",
       "      <th>Notes</th>\n",
       "      <th>Year</th>\n",
       "      <th>Year Code</th>\n",
       "      <th>Month</th>\n",
       "      <th>Month Code</th>\n",
       "      <th>Weekday</th>\n",
       "      <th>Weekday Code</th>\n",
       "      <th>Deaths</th>\n",
       "      <th>Population</th>\n",
       "      <th>Crude Rate</th>\n",
       "    </tr>\n",
       "  </thead>\n",
       "  <tbody>\n",
       "    <tr>\n",
       "      <th>0</th>\n",
       "      <td>NaN</td>\n",
       "      <td>1999</td>\n",
       "      <td>1999</td>\n",
       "      <td>Jan., 1999</td>\n",
       "      <td>1999/01</td>\n",
       "      <td>Sunday</td>\n",
       "      <td>1</td>\n",
       "      <td>367</td>\n",
       "      <td>Not Applicable</td>\n",
       "      <td>Not Applicable</td>\n",
       "    </tr>\n",
       "    <tr>\n",
       "      <th>1</th>\n",
       "      <td>NaN</td>\n",
       "      <td>1999</td>\n",
       "      <td>1999</td>\n",
       "      <td>Jan., 1999</td>\n",
       "      <td>1999/01</td>\n",
       "      <td>Monday</td>\n",
       "      <td>2</td>\n",
       "      <td>356</td>\n",
       "      <td>Not Applicable</td>\n",
       "      <td>Not Applicable</td>\n",
       "    </tr>\n",
       "    <tr>\n",
       "      <th>2</th>\n",
       "      <td>NaN</td>\n",
       "      <td>1999</td>\n",
       "      <td>1999</td>\n",
       "      <td>Jan., 1999</td>\n",
       "      <td>1999/01</td>\n",
       "      <td>Tuesday</td>\n",
       "      <td>3</td>\n",
       "      <td>321</td>\n",
       "      <td>Not Applicable</td>\n",
       "      <td>Not Applicable</td>\n",
       "    </tr>\n",
       "    <tr>\n",
       "      <th>3</th>\n",
       "      <td>NaN</td>\n",
       "      <td>1999</td>\n",
       "      <td>1999</td>\n",
       "      <td>Jan., 1999</td>\n",
       "      <td>1999/01</td>\n",
       "      <td>Wednesday</td>\n",
       "      <td>4</td>\n",
       "      <td>321</td>\n",
       "      <td>Not Applicable</td>\n",
       "      <td>Not Applicable</td>\n",
       "    </tr>\n",
       "    <tr>\n",
       "      <th>4</th>\n",
       "      <td>NaN</td>\n",
       "      <td>1999</td>\n",
       "      <td>1999</td>\n",
       "      <td>Jan., 1999</td>\n",
       "      <td>1999/01</td>\n",
       "      <td>Thursday</td>\n",
       "      <td>5</td>\n",
       "      <td>326</td>\n",
       "      <td>Not Applicable</td>\n",
       "      <td>Not Applicable</td>\n",
       "    </tr>\n",
       "    <tr>\n",
       "      <th>5</th>\n",
       "      <td>NaN</td>\n",
       "      <td>1999</td>\n",
       "      <td>1999</td>\n",
       "      <td>Jan., 1999</td>\n",
       "      <td>1999/01</td>\n",
       "      <td>Friday</td>\n",
       "      <td>6</td>\n",
       "      <td>382</td>\n",
       "      <td>Not Applicable</td>\n",
       "      <td>Not Applicable</td>\n",
       "    </tr>\n",
       "    <tr>\n",
       "      <th>6</th>\n",
       "      <td>NaN</td>\n",
       "      <td>1999</td>\n",
       "      <td>1999</td>\n",
       "      <td>Jan., 1999</td>\n",
       "      <td>1999/01</td>\n",
       "      <td>Saturday</td>\n",
       "      <td>7</td>\n",
       "      <td>325</td>\n",
       "      <td>Not Applicable</td>\n",
       "      <td>Not Applicable</td>\n",
       "    </tr>\n",
       "    <tr>\n",
       "      <th>7</th>\n",
       "      <td>NaN</td>\n",
       "      <td>1999</td>\n",
       "      <td>1999</td>\n",
       "      <td>Jan., 1999</td>\n",
       "      <td>1999/01</td>\n",
       "      <td>Unknown</td>\n",
       "      <td>9</td>\n",
       "      <td>0</td>\n",
       "      <td>Not Applicable</td>\n",
       "      <td>Not Applicable</td>\n",
       "    </tr>\n",
       "    <tr>\n",
       "      <th>8</th>\n",
       "      <td>NaN</td>\n",
       "      <td>1999</td>\n",
       "      <td>1999</td>\n",
       "      <td>Feb., 1999</td>\n",
       "      <td>1999/02</td>\n",
       "      <td>Sunday</td>\n",
       "      <td>1</td>\n",
       "      <td>294</td>\n",
       "      <td>Not Applicable</td>\n",
       "      <td>Not Applicable</td>\n",
       "    </tr>\n",
       "    <tr>\n",
       "      <th>9</th>\n",
       "      <td>NaN</td>\n",
       "      <td>1999</td>\n",
       "      <td>1999</td>\n",
       "      <td>Feb., 1999</td>\n",
       "      <td>1999/02</td>\n",
       "      <td>Monday</td>\n",
       "      <td>2</td>\n",
       "      <td>361</td>\n",
       "      <td>Not Applicable</td>\n",
       "      <td>Not Applicable</td>\n",
       "    </tr>\n",
       "  </tbody>\n",
       "</table>\n",
       "</div>"
      ],
      "text/plain": [
       "   Notes  Year  Year Code       Month Month Code    Weekday  Weekday Code  \\\n",
       "0    NaN  1999       1999  Jan., 1999    1999/01     Sunday             1   \n",
       "1    NaN  1999       1999  Jan., 1999    1999/01     Monday             2   \n",
       "2    NaN  1999       1999  Jan., 1999    1999/01    Tuesday             3   \n",
       "3    NaN  1999       1999  Jan., 1999    1999/01  Wednesday             4   \n",
       "4    NaN  1999       1999  Jan., 1999    1999/01   Thursday             5   \n",
       "5    NaN  1999       1999  Jan., 1999    1999/01     Friday             6   \n",
       "6    NaN  1999       1999  Jan., 1999    1999/01   Saturday             7   \n",
       "7    NaN  1999       1999  Jan., 1999    1999/01    Unknown             9   \n",
       "8    NaN  1999       1999  Feb., 1999    1999/02     Sunday             1   \n",
       "9    NaN  1999       1999  Feb., 1999    1999/02     Monday             2   \n",
       "\n",
       "   Deaths      Population      Crude Rate  \n",
       "0     367  Not Applicable  Not Applicable  \n",
       "1     356  Not Applicable  Not Applicable  \n",
       "2     321  Not Applicable  Not Applicable  \n",
       "3     321  Not Applicable  Not Applicable  \n",
       "4     326  Not Applicable  Not Applicable  \n",
       "5     382  Not Applicable  Not Applicable  \n",
       "6     325  Not Applicable  Not Applicable  \n",
       "7       0  Not Applicable  Not Applicable  \n",
       "8     294  Not Applicable  Not Applicable  \n",
       "9     361  Not Applicable  Not Applicable  "
      ]
     },
     "execution_count": 15,
     "metadata": {},
     "output_type": "execute_result"
    }
   ],
   "source": [
    "deaths_df.head(10)"
   ]
  },
  {
   "cell_type": "code",
   "execution_count": 16,
   "metadata": {
    "scrolled": false
   },
   "outputs": [
    {
     "data": {
      "text/html": [
       "<div>\n",
       "<style scoped>\n",
       "    .dataframe tbody tr th:only-of-type {\n",
       "        vertical-align: middle;\n",
       "    }\n",
       "\n",
       "    .dataframe tbody tr th {\n",
       "        vertical-align: top;\n",
       "    }\n",
       "\n",
       "    .dataframe thead th {\n",
       "        text-align: right;\n",
       "    }\n",
       "</style>\n",
       "<table border=\"1\" class=\"dataframe\">\n",
       "  <thead>\n",
       "    <tr style=\"text-align: right;\">\n",
       "      <th></th>\n",
       "      <th>Notes</th>\n",
       "      <th>Year</th>\n",
       "      <th>Year Code</th>\n",
       "      <th>Month</th>\n",
       "      <th>Month Code</th>\n",
       "      <th>Weekday</th>\n",
       "      <th>Weekday Code</th>\n",
       "      <th>Deaths</th>\n",
       "      <th>Population</th>\n",
       "      <th>Crude Rate</th>\n",
       "    </tr>\n",
       "  </thead>\n",
       "  <tbody>\n",
       "    <tr>\n",
       "      <th>1612</th>\n",
       "      <td>NaN</td>\n",
       "      <td>2016</td>\n",
       "      <td>2016</td>\n",
       "      <td>Nov., 2016</td>\n",
       "      <td>2016/11</td>\n",
       "      <td>Monday</td>\n",
       "      <td>2</td>\n",
       "      <td>483</td>\n",
       "      <td>Not Applicable</td>\n",
       "      <td>Not Applicable</td>\n",
       "    </tr>\n",
       "    <tr>\n",
       "      <th>1868</th>\n",
       "      <td>NaN</td>\n",
       "      <td>2019</td>\n",
       "      <td>2019</td>\n",
       "      <td>Nov., 2019</td>\n",
       "      <td>2019/11</td>\n",
       "      <td>Monday</td>\n",
       "      <td>2</td>\n",
       "      <td>480</td>\n",
       "      <td>Not Applicable</td>\n",
       "      <td>Not Applicable</td>\n",
       "    </tr>\n",
       "    <tr>\n",
       "      <th>1823</th>\n",
       "      <td>NaN</td>\n",
       "      <td>2019</td>\n",
       "      <td>2019</td>\n",
       "      <td>Apr., 2019</td>\n",
       "      <td>2019/04</td>\n",
       "      <td>Saturday</td>\n",
       "      <td>7</td>\n",
       "      <td>461</td>\n",
       "      <td>Not Applicable</td>\n",
       "      <td>Not Applicable</td>\n",
       "    </tr>\n",
       "    <tr>\n",
       "      <th>847</th>\n",
       "      <td>NaN</td>\n",
       "      <td>2007</td>\n",
       "      <td>2007</td>\n",
       "      <td>Dec., 2007</td>\n",
       "      <td>2007/12</td>\n",
       "      <td>Thursday</td>\n",
       "      <td>5</td>\n",
       "      <td>363</td>\n",
       "      <td>Not Applicable</td>\n",
       "      <td>Not Applicable</td>\n",
       "    </tr>\n",
       "    <tr>\n",
       "      <th>536</th>\n",
       "      <td>NaN</td>\n",
       "      <td>2004</td>\n",
       "      <td>2004</td>\n",
       "      <td>Sep., 2004</td>\n",
       "      <td>2004/09</td>\n",
       "      <td>Sunday</td>\n",
       "      <td>1</td>\n",
       "      <td>374</td>\n",
       "      <td>Not Applicable</td>\n",
       "      <td>Not Applicable</td>\n",
       "    </tr>\n",
       "    <tr>\n",
       "      <th>1956</th>\n",
       "      <td>NaN</td>\n",
       "      <td>2020</td>\n",
       "      <td>2020</td>\n",
       "      <td>Nov., 2020</td>\n",
       "      <td>2020/11</td>\n",
       "      <td>Wednesday</td>\n",
       "      <td>4</td>\n",
       "      <td>440</td>\n",
       "      <td>Not Applicable</td>\n",
       "      <td>Not Applicable</td>\n",
       "    </tr>\n",
       "    <tr>\n",
       "      <th>22</th>\n",
       "      <td>NaN</td>\n",
       "      <td>1999</td>\n",
       "      <td>1999</td>\n",
       "      <td>Mar., 1999</td>\n",
       "      <td>1999/03</td>\n",
       "      <td>Saturday</td>\n",
       "      <td>7</td>\n",
       "      <td>262</td>\n",
       "      <td>Not Applicable</td>\n",
       "      <td>Not Applicable</td>\n",
       "    </tr>\n",
       "    <tr>\n",
       "      <th>156</th>\n",
       "      <td>NaN</td>\n",
       "      <td>2000</td>\n",
       "      <td>2000</td>\n",
       "      <td>Aug., 2000</td>\n",
       "      <td>2000/08</td>\n",
       "      <td>Thursday</td>\n",
       "      <td>5</td>\n",
       "      <td>362</td>\n",
       "      <td>Not Applicable</td>\n",
       "      <td>Not Applicable</td>\n",
       "    </tr>\n",
       "    <tr>\n",
       "      <th>923</th>\n",
       "      <td>NaN</td>\n",
       "      <td>2008</td>\n",
       "      <td>2008</td>\n",
       "      <td>Oct., 2008</td>\n",
       "      <td>2008/10</td>\n",
       "      <td>Thursday</td>\n",
       "      <td>5</td>\n",
       "      <td>463</td>\n",
       "      <td>Not Applicable</td>\n",
       "      <td>Not Applicable</td>\n",
       "    </tr>\n",
       "    <tr>\n",
       "      <th>4</th>\n",
       "      <td>NaN</td>\n",
       "      <td>1999</td>\n",
       "      <td>1999</td>\n",
       "      <td>Jan., 1999</td>\n",
       "      <td>1999/01</td>\n",
       "      <td>Thursday</td>\n",
       "      <td>5</td>\n",
       "      <td>326</td>\n",
       "      <td>Not Applicable</td>\n",
       "      <td>Not Applicable</td>\n",
       "    </tr>\n",
       "    <tr>\n",
       "      <th>1228</th>\n",
       "      <td>NaN</td>\n",
       "      <td>2012</td>\n",
       "      <td>2012</td>\n",
       "      <td>May, 2012</td>\n",
       "      <td>2012/05</td>\n",
       "      <td>Thursday</td>\n",
       "      <td>5</td>\n",
       "      <td>593</td>\n",
       "      <td>Not Applicable</td>\n",
       "      <td>Not Applicable</td>\n",
       "    </tr>\n",
       "    <tr>\n",
       "      <th>712</th>\n",
       "      <td>NaN</td>\n",
       "      <td>2006</td>\n",
       "      <td>2006</td>\n",
       "      <td>Jul., 2006</td>\n",
       "      <td>2006/07</td>\n",
       "      <td>Wednesday</td>\n",
       "      <td>4</td>\n",
       "      <td>412</td>\n",
       "      <td>Not Applicable</td>\n",
       "      <td>Not Applicable</td>\n",
       "    </tr>\n",
       "    <tr>\n",
       "      <th>328</th>\n",
       "      <td>NaN</td>\n",
       "      <td>2002</td>\n",
       "      <td>2002</td>\n",
       "      <td>Jun., 2002</td>\n",
       "      <td>2002/06</td>\n",
       "      <td>Thursday</td>\n",
       "      <td>5</td>\n",
       "      <td>337</td>\n",
       "      <td>Not Applicable</td>\n",
       "      <td>Not Applicable</td>\n",
       "    </tr>\n",
       "    <tr>\n",
       "      <th>1875</th>\n",
       "      <td>NaN</td>\n",
       "      <td>2019</td>\n",
       "      <td>2019</td>\n",
       "      <td>Dec., 2019</td>\n",
       "      <td>2019/12</td>\n",
       "      <td>Monday</td>\n",
       "      <td>2</td>\n",
       "      <td>627</td>\n",
       "      <td>Not Applicable</td>\n",
       "      <td>Not Applicable</td>\n",
       "    </tr>\n",
       "    <tr>\n",
       "      <th>1470</th>\n",
       "      <td>NaN</td>\n",
       "      <td>2015</td>\n",
       "      <td>2015</td>\n",
       "      <td>Mar., 2015</td>\n",
       "      <td>2015/03</td>\n",
       "      <td>Thursday</td>\n",
       "      <td>5</td>\n",
       "      <td>477</td>\n",
       "      <td>Not Applicable</td>\n",
       "      <td>Not Applicable</td>\n",
       "    </tr>\n",
       "  </tbody>\n",
       "</table>\n",
       "</div>"
      ],
      "text/plain": [
       "      Notes  Year  Year Code        Month Month Code    Weekday  Weekday Code  \\\n",
       "1612    NaN  2016       2016   Nov., 2016    2016/11     Monday             2   \n",
       "1868    NaN  2019       2019   Nov., 2019    2019/11     Monday             2   \n",
       "1823    NaN  2019       2019   Apr., 2019    2019/04   Saturday             7   \n",
       "847     NaN  2007       2007   Dec., 2007    2007/12   Thursday             5   \n",
       "536     NaN  2004       2004   Sep., 2004    2004/09     Sunday             1   \n",
       "1956    NaN  2020       2020  Nov., 2020     2020/11  Wednesday             4   \n",
       "22      NaN  1999       1999   Mar., 1999    1999/03   Saturday             7   \n",
       "156     NaN  2000       2000   Aug., 2000    2000/08   Thursday             5   \n",
       "923     NaN  2008       2008   Oct., 2008    2008/10   Thursday             5   \n",
       "4       NaN  1999       1999   Jan., 1999    1999/01   Thursday             5   \n",
       "1228    NaN  2012       2012    May, 2012    2012/05   Thursday             5   \n",
       "712     NaN  2006       2006   Jul., 2006    2006/07  Wednesday             4   \n",
       "328     NaN  2002       2002   Jun., 2002    2002/06   Thursday             5   \n",
       "1875    NaN  2019       2019   Dec., 2019    2019/12     Monday             2   \n",
       "1470    NaN  2015       2015   Mar., 2015    2015/03   Thursday             5   \n",
       "\n",
       "      Deaths      Population      Crude Rate  \n",
       "1612     483  Not Applicable  Not Applicable  \n",
       "1868     480  Not Applicable  Not Applicable  \n",
       "1823     461  Not Applicable  Not Applicable  \n",
       "847      363  Not Applicable  Not Applicable  \n",
       "536      374  Not Applicable  Not Applicable  \n",
       "1956     440  Not Applicable  Not Applicable  \n",
       "22       262  Not Applicable  Not Applicable  \n",
       "156      362  Not Applicable  Not Applicable  \n",
       "923      463  Not Applicable  Not Applicable  \n",
       "4        326  Not Applicable  Not Applicable  \n",
       "1228     593  Not Applicable  Not Applicable  \n",
       "712      412  Not Applicable  Not Applicable  \n",
       "328      337  Not Applicable  Not Applicable  \n",
       "1875     627  Not Applicable  Not Applicable  \n",
       "1470     477  Not Applicable  Not Applicable  "
      ]
     },
     "execution_count": 16,
     "metadata": {},
     "output_type": "execute_result"
    }
   ],
   "source": [
    "deaths_df.sample(15)"
   ]
  },
  {
   "cell_type": "code",
   "execution_count": 17,
   "metadata": {
    "scrolled": true
   },
   "outputs": [
    {
     "data": {
      "text/html": [
       "<div>\n",
       "<style scoped>\n",
       "    .dataframe tbody tr th:only-of-type {\n",
       "        vertical-align: middle;\n",
       "    }\n",
       "\n",
       "    .dataframe tbody tr th {\n",
       "        vertical-align: top;\n",
       "    }\n",
       "\n",
       "    .dataframe thead th {\n",
       "        text-align: right;\n",
       "    }\n",
       "</style>\n",
       "<table border=\"1\" class=\"dataframe\">\n",
       "  <thead>\n",
       "    <tr style=\"text-align: right;\">\n",
       "      <th></th>\n",
       "      <th>Notes</th>\n",
       "      <th>Year</th>\n",
       "      <th>Year Code</th>\n",
       "      <th>Month</th>\n",
       "      <th>Month Code</th>\n",
       "      <th>Weekday</th>\n",
       "      <th>Weekday Code</th>\n",
       "      <th>Deaths</th>\n",
       "      <th>Population</th>\n",
       "      <th>Crude Rate</th>\n",
       "    </tr>\n",
       "  </thead>\n",
       "  <tbody>\n",
       "    <tr>\n",
       "      <th>1958</th>\n",
       "      <td>NaN</td>\n",
       "      <td>2020</td>\n",
       "      <td>2020</td>\n",
       "      <td>Nov., 2020</td>\n",
       "      <td>2020/11</td>\n",
       "      <td>Friday</td>\n",
       "      <td>6</td>\n",
       "      <td>480</td>\n",
       "      <td>Not Applicable</td>\n",
       "      <td>Not Applicable</td>\n",
       "    </tr>\n",
       "    <tr>\n",
       "      <th>1959</th>\n",
       "      <td>NaN</td>\n",
       "      <td>2020</td>\n",
       "      <td>2020</td>\n",
       "      <td>Nov., 2020</td>\n",
       "      <td>2020/11</td>\n",
       "      <td>Saturday</td>\n",
       "      <td>7</td>\n",
       "      <td>442</td>\n",
       "      <td>Not Applicable</td>\n",
       "      <td>Not Applicable</td>\n",
       "    </tr>\n",
       "    <tr>\n",
       "      <th>1960</th>\n",
       "      <td>NaN</td>\n",
       "      <td>2020</td>\n",
       "      <td>2020</td>\n",
       "      <td>Dec., 2020</td>\n",
       "      <td>2020/12</td>\n",
       "      <td>Sunday</td>\n",
       "      <td>1</td>\n",
       "      <td>435</td>\n",
       "      <td>Not Applicable</td>\n",
       "      <td>Not Applicable</td>\n",
       "    </tr>\n",
       "    <tr>\n",
       "      <th>1961</th>\n",
       "      <td>NaN</td>\n",
       "      <td>2020</td>\n",
       "      <td>2020</td>\n",
       "      <td>Dec., 2020</td>\n",
       "      <td>2020/12</td>\n",
       "      <td>Monday</td>\n",
       "      <td>2</td>\n",
       "      <td>502</td>\n",
       "      <td>Not Applicable</td>\n",
       "      <td>Not Applicable</td>\n",
       "    </tr>\n",
       "    <tr>\n",
       "      <th>1962</th>\n",
       "      <td>NaN</td>\n",
       "      <td>2020</td>\n",
       "      <td>2020</td>\n",
       "      <td>Dec., 2020</td>\n",
       "      <td>2020/12</td>\n",
       "      <td>Tuesday</td>\n",
       "      <td>3</td>\n",
       "      <td>553</td>\n",
       "      <td>Not Applicable</td>\n",
       "      <td>Not Applicable</td>\n",
       "    </tr>\n",
       "    <tr>\n",
       "      <th>1963</th>\n",
       "      <td>NaN</td>\n",
       "      <td>2020</td>\n",
       "      <td>2020</td>\n",
       "      <td>Dec., 2020</td>\n",
       "      <td>2020/12</td>\n",
       "      <td>Wednesday</td>\n",
       "      <td>4</td>\n",
       "      <td>532</td>\n",
       "      <td>Not Applicable</td>\n",
       "      <td>Not Applicable</td>\n",
       "    </tr>\n",
       "    <tr>\n",
       "      <th>1964</th>\n",
       "      <td>NaN</td>\n",
       "      <td>2020</td>\n",
       "      <td>2020</td>\n",
       "      <td>Dec., 2020</td>\n",
       "      <td>2020/12</td>\n",
       "      <td>Thursday</td>\n",
       "      <td>5</td>\n",
       "      <td>545</td>\n",
       "      <td>Not Applicable</td>\n",
       "      <td>Not Applicable</td>\n",
       "    </tr>\n",
       "    <tr>\n",
       "      <th>1965</th>\n",
       "      <td>NaN</td>\n",
       "      <td>2020</td>\n",
       "      <td>2020</td>\n",
       "      <td>Dec., 2020</td>\n",
       "      <td>2020/12</td>\n",
       "      <td>Friday</td>\n",
       "      <td>6</td>\n",
       "      <td>427</td>\n",
       "      <td>Not Applicable</td>\n",
       "      <td>Not Applicable</td>\n",
       "    </tr>\n",
       "    <tr>\n",
       "      <th>1966</th>\n",
       "      <td>NaN</td>\n",
       "      <td>2020</td>\n",
       "      <td>2020</td>\n",
       "      <td>Dec., 2020</td>\n",
       "      <td>2020/12</td>\n",
       "      <td>Saturday</td>\n",
       "      <td>7</td>\n",
       "      <td>428</td>\n",
       "      <td>Not Applicable</td>\n",
       "      <td>Not Applicable</td>\n",
       "    </tr>\n",
       "    <tr>\n",
       "      <th>1967</th>\n",
       "      <td>NaN</td>\n",
       "      <td>2020</td>\n",
       "      <td>2020</td>\n",
       "      <td>Dec., 2020</td>\n",
       "      <td>2020/12</td>\n",
       "      <td>Unknown</td>\n",
       "      <td>9</td>\n",
       "      <td>0</td>\n",
       "      <td>Not Applicable</td>\n",
       "      <td>Not Applicable</td>\n",
       "    </tr>\n",
       "  </tbody>\n",
       "</table>\n",
       "</div>"
      ],
      "text/plain": [
       "      Notes  Year  Year Code        Month Month Code    Weekday  Weekday Code  \\\n",
       "1958    NaN  2020       2020  Nov., 2020     2020/11     Friday             6   \n",
       "1959    NaN  2020       2020  Nov., 2020     2020/11   Saturday             7   \n",
       "1960    NaN  2020       2020  Dec., 2020     2020/12     Sunday             1   \n",
       "1961    NaN  2020       2020  Dec., 2020     2020/12     Monday             2   \n",
       "1962    NaN  2020       2020  Dec., 2020     2020/12    Tuesday             3   \n",
       "1963    NaN  2020       2020  Dec., 2020     2020/12  Wednesday             4   \n",
       "1964    NaN  2020       2020  Dec., 2020     2020/12   Thursday             5   \n",
       "1965    NaN  2020       2020  Dec., 2020     2020/12     Friday             6   \n",
       "1966    NaN  2020       2020  Dec., 2020     2020/12   Saturday             7   \n",
       "1967    NaN  2020       2020  Dec., 2020     2020/12    Unknown             9   \n",
       "\n",
       "      Deaths      Population      Crude Rate  \n",
       "1958     480  Not Applicable  Not Applicable  \n",
       "1959     442  Not Applicable  Not Applicable  \n",
       "1960     435  Not Applicable  Not Applicable  \n",
       "1961     502  Not Applicable  Not Applicable  \n",
       "1962     553  Not Applicable  Not Applicable  \n",
       "1963     532  Not Applicable  Not Applicable  \n",
       "1964     545  Not Applicable  Not Applicable  \n",
       "1965     427  Not Applicable  Not Applicable  \n",
       "1966     428  Not Applicable  Not Applicable  \n",
       "1967       0  Not Applicable  Not Applicable  "
      ]
     },
     "execution_count": 17,
     "metadata": {},
     "output_type": "execute_result"
    }
   ],
   "source": [
    "deaths_df.tail(10)"
   ]
  },
  {
   "cell_type": "markdown",
   "metadata": {},
   "source": [
    "* Visual inspection using head, sample, and tail demonstrate consistency in datatypes within columns, with no imediatly apparent duplication of values. \n",
    "* Null values, and \"Not Applicable\" appear in columns `Notes` `Population` and `Crude Rate`. \n",
    "* A `'0'` value is observed in the tail of the dataset in the `Deaths` column corresponding to an entry for `'Unknown'` in the `Weekeday` column and may be a placeholder for null value, or a legitimate observation."
   ]
  },
  {
   "cell_type": "markdown",
   "metadata": {},
   "source": [
    "### Programaitc Assessment of Dataset 2 `deaths_df`"
   ]
  },
  {
   "cell_type": "code",
   "execution_count": 18,
   "metadata": {
    "scrolled": false
   },
   "outputs": [
    {
     "name": "stdout",
     "output_type": "stream",
     "text": [
      "<class 'pandas.core.frame.DataFrame'>\n",
      "RangeIndex: 1968 entries, 0 to 1967\n",
      "Data columns (total 10 columns):\n",
      " #   Column        Non-Null Count  Dtype  \n",
      "---  ------        --------------  -----  \n",
      " 0   Notes         0 non-null      float64\n",
      " 1   Year          1968 non-null   int64  \n",
      " 2   Year Code     1968 non-null   int64  \n",
      " 3   Month         1968 non-null   object \n",
      " 4   Month Code    1968 non-null   object \n",
      " 5   Weekday       1968 non-null   object \n",
      " 6   Weekday Code  1968 non-null   int64  \n",
      " 7   Deaths        1968 non-null   int64  \n",
      " 8   Population    1968 non-null   object \n",
      " 9   Crude Rate    1968 non-null   object \n",
      "dtypes: float64(1), int64(4), object(5)\n",
      "memory usage: 153.9+ KB\n"
     ]
    }
   ],
   "source": [
    "deaths_df.info()"
   ]
  },
  {
   "cell_type": "code",
   "execution_count": 19,
   "metadata": {
    "scrolled": false
   },
   "outputs": [
    {
     "data": {
      "text/plain": [
       "Notes           1968\n",
       "Year               0\n",
       "Year Code          0\n",
       "Month              0\n",
       "Month Code         0\n",
       "Weekday            0\n",
       "Weekday Code       0\n",
       "Deaths             0\n",
       "Population         0\n",
       "Crude Rate         0\n",
       "dtype: int64"
      ]
     },
     "execution_count": 19,
     "metadata": {},
     "output_type": "execute_result"
    }
   ],
   "source": [
    "# Check for null values within each column\n",
    "deaths_df.isnull().sum()"
   ]
  },
  {
   "cell_type": "markdown",
   "metadata": {},
   "source": [
    "All rows contain a null value in the Notes column. No other null values detected."
   ]
  },
  {
   "cell_type": "code",
   "execution_count": 20,
   "metadata": {
    "scrolled": false
   },
   "outputs": [
    {
     "data": {
      "text/plain": [
       "Notes              0\n",
       "Year               0\n",
       "Year Code          0\n",
       "Month              0\n",
       "Month Code         0\n",
       "Weekday            0\n",
       "Weekday Code       0\n",
       "Deaths             0\n",
       "Population      1968\n",
       "Crude Rate      1968\n",
       "dtype: int64"
      ]
     },
     "execution_count": 20,
     "metadata": {},
     "output_type": "execute_result"
    }
   ],
   "source": [
    "# Check for isntances of \"Not Applicable\"\n",
    "\n",
    "deaths_df.apply(lambda x: x.astype(str).str.contains('Not Applicable', na=False).sum())"
   ]
  },
  {
   "cell_type": "markdown",
   "metadata": {},
   "source": [
    "All rows contain the value `'Not Applicable'` in columns `Population` and `Crude Rate`, and is not detected in any other columns."
   ]
  },
  {
   "cell_type": "code",
   "execution_count": 21,
   "metadata": {},
   "outputs": [
    {
     "data": {
      "text/plain": [
       "Notes             0\n",
       "Year              0\n",
       "Year Code         0\n",
       "Month             0\n",
       "Month Code        0\n",
       "Weekday           0\n",
       "Weekday Code      0\n",
       "Deaths          120\n",
       "Population        0\n",
       "Crude Rate        0\n",
       "dtype: int64"
      ]
     },
     "execution_count": 21,
     "metadata": {},
     "output_type": "execute_result"
    }
   ],
   "source": [
    "#Check for instances of 0\n",
    "\n",
    "deaths_df.apply(lambda x: (x == 0).sum())"
   ]
  },
  {
   "cell_type": "markdown",
   "metadata": {},
   "source": [
    "120 instances of `'0'` observed in the `Deaths` column"
   ]
  },
  {
   "cell_type": "code",
   "execution_count": 22,
   "metadata": {},
   "outputs": [
    {
     "data": {
      "text/plain": [
       "120"
      ]
     },
     "execution_count": 22,
     "metadata": {},
     "output_type": "execute_result"
    }
   ],
   "source": [
    "# Check for observations where Deaths is 0 and Weekday is Unknown\n",
    "deaths_df[(deaths_df['Deaths'] == 0) & (deaths_df['Weekday'] == 'Unknown')].shape[0]"
   ]
  },
  {
   "cell_type": "markdown",
   "metadata": {},
   "source": [
    "All 120 instances of `'0'` observed `Deaths` occur when the `Weekday` is `'Unknown'` "
   ]
  },
  {
   "cell_type": "code",
   "execution_count": 23,
   "metadata": {},
   "outputs": [
    {
     "data": {
      "text/plain": [
       "120"
      ]
     },
     "execution_count": 23,
     "metadata": {},
     "output_type": "execute_result"
    }
   ],
   "source": [
    "# Get a count of Unknown weekdays in the dataframe\n",
    "deaths_df[deaths_df['Weekday'] == 'Unknown']['Weekday'].count()"
   ]
  },
  {
   "cell_type": "markdown",
   "metadata": {},
   "source": [
    "120 of 120 `'Unknown'` in the `Weekday` column coincide with a recorded `Deaths` value of 0 and do not hold any other values. Therefore, any rows with `'Unknown'` in the `Weekday` column can likely be dropped without adversely affecting the analysis.\""
   ]
  },
  {
   "cell_type": "code",
   "execution_count": 24,
   "metadata": {
    "scrolled": true
   },
   "outputs": [
    {
     "data": {
      "text/html": [
       "<div>\n",
       "<style scoped>\n",
       "    .dataframe tbody tr th:only-of-type {\n",
       "        vertical-align: middle;\n",
       "    }\n",
       "\n",
       "    .dataframe tbody tr th {\n",
       "        vertical-align: top;\n",
       "    }\n",
       "\n",
       "    .dataframe thead th {\n",
       "        text-align: right;\n",
       "    }\n",
       "</style>\n",
       "<table border=\"1\" class=\"dataframe\">\n",
       "  <thead>\n",
       "    <tr style=\"text-align: right;\">\n",
       "      <th></th>\n",
       "      <th>Notes</th>\n",
       "      <th>Year</th>\n",
       "      <th>Year Code</th>\n",
       "      <th>Weekday Code</th>\n",
       "      <th>Deaths</th>\n",
       "    </tr>\n",
       "  </thead>\n",
       "  <tbody>\n",
       "    <tr>\n",
       "      <th>count</th>\n",
       "      <td>0.0</td>\n",
       "      <td>1968.000000</td>\n",
       "      <td>1968.000000</td>\n",
       "      <td>1968.000000</td>\n",
       "      <td>1968.000000</td>\n",
       "    </tr>\n",
       "    <tr>\n",
       "      <th>mean</th>\n",
       "      <td>NaN</td>\n",
       "      <td>2009.233232</td>\n",
       "      <td>2009.233232</td>\n",
       "      <td>4.304878</td>\n",
       "      <td>412.464431</td>\n",
       "    </tr>\n",
       "    <tr>\n",
       "      <th>std</th>\n",
       "      <td>NaN</td>\n",
       "      <td>6.373079</td>\n",
       "      <td>6.373079</td>\n",
       "      <td>2.278195</td>\n",
       "      <td>140.249443</td>\n",
       "    </tr>\n",
       "    <tr>\n",
       "      <th>min</th>\n",
       "      <td>NaN</td>\n",
       "      <td>1999.000000</td>\n",
       "      <td>1999.000000</td>\n",
       "      <td>1.000000</td>\n",
       "      <td>0.000000</td>\n",
       "    </tr>\n",
       "    <tr>\n",
       "      <th>25%</th>\n",
       "      <td>NaN</td>\n",
       "      <td>2004.000000</td>\n",
       "      <td>2004.000000</td>\n",
       "      <td>2.000000</td>\n",
       "      <td>351.750000</td>\n",
       "    </tr>\n",
       "    <tr>\n",
       "      <th>50%</th>\n",
       "      <td>NaN</td>\n",
       "      <td>2009.000000</td>\n",
       "      <td>2009.000000</td>\n",
       "      <td>4.000000</td>\n",
       "      <td>421.000000</td>\n",
       "    </tr>\n",
       "    <tr>\n",
       "      <th>75%</th>\n",
       "      <td>NaN</td>\n",
       "      <td>2015.000000</td>\n",
       "      <td>2015.000000</td>\n",
       "      <td>6.000000</td>\n",
       "      <td>495.000000</td>\n",
       "    </tr>\n",
       "    <tr>\n",
       "      <th>max</th>\n",
       "      <td>NaN</td>\n",
       "      <td>2020.000000</td>\n",
       "      <td>2020.000000</td>\n",
       "      <td>9.000000</td>\n",
       "      <td>749.000000</td>\n",
       "    </tr>\n",
       "  </tbody>\n",
       "</table>\n",
       "</div>"
      ],
      "text/plain": [
       "       Notes         Year    Year Code  Weekday Code       Deaths\n",
       "count    0.0  1968.000000  1968.000000   1968.000000  1968.000000\n",
       "mean     NaN  2009.233232  2009.233232      4.304878   412.464431\n",
       "std      NaN     6.373079     6.373079      2.278195   140.249443\n",
       "min      NaN  1999.000000  1999.000000      1.000000     0.000000\n",
       "25%      NaN  2004.000000  2004.000000      2.000000   351.750000\n",
       "50%      NaN  2009.000000  2009.000000      4.000000   421.000000\n",
       "75%      NaN  2015.000000  2015.000000      6.000000   495.000000\n",
       "max      NaN  2020.000000  2020.000000      9.000000   749.000000"
      ]
     },
     "execution_count": 24,
     "metadata": {},
     "output_type": "execute_result"
    }
   ],
   "source": [
    "# Get a statistical description of numerical values within the dataframe.\n",
    "deaths_df.describe()"
   ]
  },
  {
   "cell_type": "markdown",
   "metadata": {},
   "source": [
    "*  Values of `Years` falls within expected range\n",
    "*  The total range of `Deaths` is higher than would be expected with the given interquartile ranges.\n",
    "    *  `0` `Deaths` has been established as an outlier. \n",
    "    * `749` `Deaths` may be an outlier at about 2.4 standard deviations above the mean."
   ]
  },
  {
   "cell_type": "code",
   "execution_count": 25,
   "metadata": {
    "scrolled": true
   },
   "outputs": [
    {
     "data": {
      "text/plain": [
       "<Axes: xlabel='Year'>"
      ]
     },
     "execution_count": 25,
     "metadata": {},
     "output_type": "execute_result"
    },
    {
     "data": {
      "image/png": "[encoded data removed]",
      "text/plain": [
       "<Figure size 640x480 with 1 Axes>"
      ]
     },
     "metadata": {},
     "output_type": "display_data"
    }
   ],
   "source": [
    "# Plot the number of deaths, excluding 0 values.\n",
    "deaths_df[deaths_df['Deaths'] != 0].plot(x='Year', y='Deaths', kind='line', marker='o')"
   ]
  },
  {
   "cell_type": "markdown",
   "metadata": {},
   "source": [
    "Tragically, 720 deaths does not appear to be an outlier as the total number of deaths appears to trend upwards over time."
   ]
  },
  {
   "cell_type": "code",
   "execution_count": 26,
   "metadata": {
    "scrolled": true
   },
   "outputs": [
    {
     "data": {
      "text/plain": [
       "Notes             0\n",
       "Year             22\n",
       "Year Code        22\n",
       "Month           264\n",
       "Month Code      264\n",
       "Weekday           8\n",
       "Weekday Code      8\n",
       "Deaths          407\n",
       "Population        1\n",
       "Crude Rate        1\n",
       "dtype: int64"
      ]
     },
     "execution_count": 26,
     "metadata": {},
     "output_type": "execute_result"
    }
   ],
   "source": [
    "#Get the number of unique values for each column\n",
    "\n",
    "deaths_df.nunique()"
   ]
  },
  {
   "cell_type": "code",
   "execution_count": 27,
   "metadata": {
    "scrolled": true
   },
   "outputs": [
    {
     "name": "stdout",
     "output_type": "stream",
     "text": [
      "Number of Expected Months: 252\n"
     ]
    }
   ],
   "source": [
    "#Calculate number of months expected in the DataFrame\n",
    "range_years = (2020-1999)\n",
    "range_months = range_years*12\n",
    "print('Number of Expected Months:',range_months)"
   ]
  },
  {
   "cell_type": "markdown",
   "metadata": {},
   "source": [
    "252 months are expected (1999 to 2020 is 21 years. 21 years multiplied by 12 months is 252 months), but there are a total of 264 unique months. It is unclear if this is an artifact of the MMM YYYY formatting, or if unexpected months are included in the range."
   ]
  },
  {
   "cell_type": "markdown",
   "metadata": {
    "id": "adaK2iPNzVu4"
   },
   "source": [
    "### Quality Issue 1: Uniqueness in `powerball_df`"
   ]
  },
  {
   "cell_type": "markdown",
   "metadata": {},
   "source": [
    "**Issue and justification:** \n",
    "*  Several duplicate rows identified in visual inspection.\n",
    "*  1148 total duplicate rows identified during programaitc inspection. \n",
    "\n",
    "During the visual inspection using `.head()` and `.tail()` duplicate entires were observed. During a programatic evaluation using `.duplicated().sum()` 1148 total duplicated rows were found. The duplicates can lead to biased analysis or misinterpretation of results. \n",
    "Using head, tail, and sample allow for a quick investigation of the data to assess for indicators of potential errors, such as inconsistency in the data types within a column, inconsistent units or multiple datatypes being stored within a column, repeated values, empty rows or columns. The issue of duplicated values can be confirmed programatically with `.duplicated()`"
   ]
  },
  {
   "cell_type": "markdown",
   "metadata": {
    "id": "8Be77N4I1AmE"
   },
   "source": [
    "### Quality Issue 2: Accuracy in `deaths_df`"
   ]
  },
  {
   "cell_type": "markdown",
   "metadata": {
    "id": "iMhHyiyLM2I3"
   },
   "source": [
    "*  A `'0'` Value is observed in the `Deaths` column during visual assessment of the data corresponding to a value of `'Unkown'` in the `Weekday` column.\n",
    "*  Programatic assessment of the data indicates that all instances of `'Unknown'` in the `Weekday` column correspond to to `'0'` observations in the `Deaths` column."
   ]
  },
  {
   "cell_type": "markdown",
   "metadata": {},
   "source": [
    "**Issue and justification:** The value of `'0'` in the `Deaths` column correpsonding to all isntances of `'Unknown'` demosntrate that `'Unknown'` does not contribute to the analysis of the data, and biases results. A visual inspection using head, sample, and tail allow for the quick assessment of data quality to check for null values, or other placeholders that may be used instead of null (such as \"Not Applicable\"), and programatetic assessment allows for a count of null and placeholder values to be made. In this case it was demonstrated programatically that the dataset contained 120 `'Unknown'` `Weekday` values, and each of them corresponding to `'0'` `Deaths` indicating these rows do not provide useful information and are likely adversely affecting the analysis."
   ]
  },
  {
   "cell_type": "markdown",
   "metadata": {
    "id": "lXhGiYyiwwKN"
   },
   "source": [
    "### Tidiness Issue 1: Each Variable Forms a Column in `powerball_df`"
   ]
  },
  {
   "cell_type": "markdown",
   "metadata": {
    "id": "fleC5rORI0Xl"
   },
   "source": [
    "Visual assessment of the data demonstrates that the `Estimated Jackpot` column contains multiple datatypes, a numerical value expressed as currency (e.g. $59) and a units label (e.g. million).\n",
    "\n",
    "Programatic assessment of the data indicates that labels `'Million'` and `'Billion'` are used, and that each row has one of these labels."
   ]
  },
  {
   "cell_type": "markdown",
   "metadata": {},
   "source": [
    "**Issue and justification:** Visual inspection using head, sample, and tail allow for a quick assessment of data tidiness. In this case it demonstrated that `Estimated Jackpot` field is not correctly formatted as currency, and has a numerical value and a units label. Programatic assessment of the data demonstrated one of two possible data labels, and that every field in the `Estimated Jackpot` has a label. This formatting prevents statistical analysis of the field."
   ]
  },
  {
   "cell_type": "markdown",
   "metadata": {
    "id": "4ffMoRGSwzYj"
   },
   "source": [
    "### Tidiness Issue 2: Each variable forms a column in `deaths_df`"
   ]
  },
  {
   "cell_type": "markdown",
   "metadata": {
    "id": "XUpeoqokw5Qt"
   },
   "source": [
    "Visual assessment of the data demonstrates that the `Month` column contains dates and years, such as Mar 1998. Programatic assessment demonstrates 264 unique values in the `Month` column."
   ]
  },
  {
   "cell_type": "markdown",
   "metadata": {},
   "source": [
    "**Issue and justification:** Each column is not a single variable. `Month` contains both the month and year, which when combined create a discrete point in time, but limits categorization based on month of the years. Visual inspection of the head, sample, and tail allows for a quick visual assment that this usage is consistent within the dataset, and programatic assessment demonstrates 264 unique values, where in reality there should be 12."
   ]
  },
  {
   "cell_type": "markdown",
   "metadata": {
    "id": "D6gmLnBttpCh"
   },
   "source": [
    "## 3. Clean data"
   ]
  },
  {
   "cell_type": "markdown",
   "metadata": {},
   "source": [
    "### Cleaning Dataset 1: `powerball_df`\n",
    "#### Quality Issue 1\n",
    "*  Duplicated Values\n",
    "#### Tidyness Issue 1\n",
    "*  `Estimated Jackpot` holds more than one variable\n",
    "\n",
    "#### Additional Issue\n",
    "*  Cast `Drawing Date` as datetime"
   ]
  },
  {
   "cell_type": "markdown",
   "metadata": {},
   "source": [
    "#### Quality Issue 1: Uniqueness\n",
    "Remove duplicate rows in `powerball_df`"
   ]
  },
  {
   "cell_type": "code",
   "execution_count": 28,
   "metadata": {},
   "outputs": [
    {
     "data": {
      "text/plain": [
       "0"
      ]
     },
     "execution_count": 28,
     "metadata": {},
     "output_type": "execute_result"
    }
   ],
   "source": [
    "# Create a new DataFrame based on powerball_df with duplicates removed.\n",
    "powerball_df_clean = powerball_df.drop_duplicates()\n",
    "\n",
    "# Count duplicates\n",
    "powerball_df_clean.duplicated().sum()"
   ]
  },
  {
   "cell_type": "markdown",
   "metadata": {},
   "source": [
    "No duplicates!\n",
    "\n",
    "The `drop_duplicates()` function was used to simply remove duplicates from the DataFrame. This is an effective option because duplicated values were expected as a result of how the website from which the data was collected handles dates on which there was no drawing (by giving data to the next closest drawing date). Entire rows were duplicated, so no distinciton was needed between duplicates, and the first instance could be kept."
   ]
  },
  {
   "cell_type": "markdown",
   "metadata": {},
   "source": [
    "#### Tidiness Issue 1: Each Variable Forms a Column\n",
    "Seperate data labels from numerical values in the `Expected Jackpot` column and format datatypes correctly"
   ]
  },
  {
   "cell_type": "code",
   "execution_count": 29,
   "metadata": {
    "scrolled": true
   },
   "outputs": [
    {
     "name": "stderr",
     "output_type": "stream",
     "text": [
      "/tmp/ipykernel_47/1052795941.py:2: SettingWithCopyWarning: \n",
      "A value is trying to be set on a copy of a slice from a DataFrame.\n",
      "Try using .loc[row_indexer,col_indexer] = value instead\n",
      "\n",
      "See the caveats in the documentation: https://pandas.pydata.org/pandas-docs/stable/user_guide/indexing.html#returning-a-view-versus-a-copy\n",
      "  powerball_df_clean['Jackpot Value'] = powerball_df_clean['Estimated Jackpot'].str.extract(r'(\\d+\\.?\\d*)', expand=False).astype(float)\n",
      "/tmp/ipykernel_47/1052795941.py:5: SettingWithCopyWarning: \n",
      "A value is trying to be set on a copy of a slice from a DataFrame.\n",
      "Try using .loc[row_indexer,col_indexer] = value instead\n",
      "\n",
      "See the caveats in the documentation: https://pandas.pydata.org/pandas-docs/stable/user_guide/indexing.html#returning-a-view-versus-a-copy\n",
      "  powerball_df_clean['Jackpot Unit'] = powerball_df_clean['Estimated Jackpot'].str.extract(r'(Million|Billion)', expand=False)\n",
      "/tmp/ipykernel_47/1052795941.py:8: SettingWithCopyWarning: \n",
      "A value is trying to be set on a copy of a slice from a DataFrame.\n",
      "Try using .loc[row_indexer,col_indexer] = value instead\n",
      "\n",
      "See the caveats in the documentation: https://pandas.pydata.org/pandas-docs/stable/user_guide/indexing.html#returning-a-view-versus-a-copy\n",
      "  powerball_df_clean['Jackpot Value (Millions)'] = powerball_df_clean.apply(\n"
     ]
    },
    {
     "data": {
      "text/html": [
       "<div>\n",
       "<style scoped>\n",
       "    .dataframe tbody tr th:only-of-type {\n",
       "        vertical-align: middle;\n",
       "    }\n",
       "\n",
       "    .dataframe tbody tr th {\n",
       "        vertical-align: top;\n",
       "    }\n",
       "\n",
       "    .dataframe thead th {\n",
       "        text-align: right;\n",
       "    }\n",
       "</style>\n",
       "<table border=\"1\" class=\"dataframe\">\n",
       "  <thead>\n",
       "    <tr style=\"text-align: right;\">\n",
       "      <th></th>\n",
       "      <th>Drawing Date</th>\n",
       "      <th>Estimated Jackpot</th>\n",
       "      <th>Jackpot Value (Millions)</th>\n",
       "    </tr>\n",
       "  </thead>\n",
       "  <tbody>\n",
       "    <tr>\n",
       "      <th>0</th>\n",
       "      <td>Sat, Jan 2, 1999</td>\n",
       "      <td>$40 Million</td>\n",
       "      <td>40.0</td>\n",
       "    </tr>\n",
       "    <tr>\n",
       "      <th>2</th>\n",
       "      <td>Wed, Jan 6, 1999</td>\n",
       "      <td>$45 Million</td>\n",
       "      <td>45.0</td>\n",
       "    </tr>\n",
       "    <tr>\n",
       "      <th>3</th>\n",
       "      <td>Sat, Jan 9, 1999</td>\n",
       "      <td>$51 Million</td>\n",
       "      <td>51.0</td>\n",
       "    </tr>\n",
       "    <tr>\n",
       "      <th>5</th>\n",
       "      <td>Wed, Jan 13, 1999</td>\n",
       "      <td>$58 Million</td>\n",
       "      <td>58.0</td>\n",
       "    </tr>\n",
       "    <tr>\n",
       "      <th>6</th>\n",
       "      <td>Sat, Jan 16, 1999</td>\n",
       "      <td>$67 Million</td>\n",
       "      <td>67.0</td>\n",
       "    </tr>\n",
       "  </tbody>\n",
       "</table>\n",
       "</div>"
      ],
      "text/plain": [
       "        Drawing Date Estimated Jackpot  Jackpot Value (Millions)\n",
       "0   Sat, Jan 2, 1999       $40 Million                      40.0\n",
       "2   Wed, Jan 6, 1999       $45 Million                      45.0\n",
       "3   Sat, Jan 9, 1999       $51 Million                      51.0\n",
       "5  Wed, Jan 13, 1999       $58 Million                      58.0\n",
       "6  Sat, Jan 16, 1999       $67 Million                      67.0"
      ]
     },
     "execution_count": 29,
     "metadata": {},
     "output_type": "execute_result"
    }
   ],
   "source": [
    "# Extract the numeric part from Jackpot Value\n",
    "powerball_df_clean['Jackpot Value'] = powerball_df_clean['Estimated Jackpot'].str.extract(r'(\\d+\\.?\\d*)', expand=False).astype(float)\n",
    "\n",
    "# Extract the unit label from Jackpot Value\n",
    "powerball_df_clean['Jackpot Unit'] = powerball_df_clean['Estimated Jackpot'].str.extract(r'(Million|Billion)', expand=False)\n",
    "\n",
    "# Convert all values to millions\n",
    "powerball_df_clean['Jackpot Value (Millions)'] = powerball_df_clean.apply(\n",
    "    lambda row: row['Jackpot Value'] * 1000 if row['Jackpot Unit'] == 'Billion' else row['Jackpot Value'],\n",
    "    axis=1\n",
    ")\n",
    "\n",
    "# Drop the Jackpot Value and Jackpot Unit columns since they wont be needed anymore.\n",
    "powerball_df_clean = powerball_df_clean.drop(columns=['Jackpot Value', 'Jackpot Unit'])\n",
    "\n",
    "# Display the DataFrame\n",
    "powerball_df_clean.head()"
   ]
  },
  {
   "cell_type": "code",
   "execution_count": 30,
   "metadata": {
    "scrolled": true
   },
   "outputs": [
    {
     "data": {
      "text/plain": [
       "count    2296.000000\n",
       "mean       92.128920\n",
       "std        96.575607\n",
       "min        10.000000\n",
       "25%        31.000000\n",
       "50%        61.000000\n",
       "75%       120.000000\n",
       "max      1590.000000\n",
       "Name: Jackpot Value (Millions), dtype: float64"
      ]
     },
     "execution_count": 30,
     "metadata": {},
     "output_type": "execute_result"
    }
   ],
   "source": [
    "# Check the statistical descirptors of the new Jackpot Value column to see \n",
    "# that the numbers fall within the expected range\n",
    "powerball_df_clean['Jackpot Value (Millions)'].describe()"
   ]
  },
  {
   "cell_type": "markdown",
   "metadata": {},
   "source": [
    "The values in the `Jackpot Value (Millions)` column appear as expected, and the maximum value `'1590'` corresponds to the expected value of 1.59 billion. "
   ]
  },
  {
   "cell_type": "markdown",
   "metadata": {},
   "source": [
    "This effectively resolves the issue by removing the labels from the `Estimated Jackpot` field, and isntead converts the numerical value of each to be in the scale of millions. In the case of any value with `'Billion'` the value is multiplied by 1000. This allows for each observation in the new `Jackpot Value (Millions)` column to containt a single variable."
   ]
  },
  {
   "cell_type": "markdown",
   "metadata": {},
   "source": [
    "#### Addressing Other Issues with the powerball_df dataset"
   ]
  },
  {
   "cell_type": "code",
   "execution_count": 31,
   "metadata": {
    "scrolled": true
   },
   "outputs": [
    {
     "data": {
      "text/html": [
       "<div>\n",
       "<style scoped>\n",
       "    .dataframe tbody tr th:only-of-type {\n",
       "        vertical-align: middle;\n",
       "    }\n",
       "\n",
       "    .dataframe tbody tr th {\n",
       "        vertical-align: top;\n",
       "    }\n",
       "\n",
       "    .dataframe thead th {\n",
       "        text-align: right;\n",
       "    }\n",
       "</style>\n",
       "<table border=\"1\" class=\"dataframe\">\n",
       "  <thead>\n",
       "    <tr style=\"text-align: right;\">\n",
       "      <th></th>\n",
       "      <th>Drawing Date</th>\n",
       "      <th>Estimated Jackpot</th>\n",
       "      <th>Jackpot Value (Millions)</th>\n",
       "    </tr>\n",
       "  </thead>\n",
       "  <tbody>\n",
       "    <tr>\n",
       "      <th>0</th>\n",
       "      <td>1999-01-02</td>\n",
       "      <td>$40 Million</td>\n",
       "      <td>40.0</td>\n",
       "    </tr>\n",
       "    <tr>\n",
       "      <th>2</th>\n",
       "      <td>1999-01-06</td>\n",
       "      <td>$45 Million</td>\n",
       "      <td>45.0</td>\n",
       "    </tr>\n",
       "    <tr>\n",
       "      <th>3</th>\n",
       "      <td>1999-01-09</td>\n",
       "      <td>$51 Million</td>\n",
       "      <td>51.0</td>\n",
       "    </tr>\n",
       "    <tr>\n",
       "      <th>5</th>\n",
       "      <td>1999-01-13</td>\n",
       "      <td>$58 Million</td>\n",
       "      <td>58.0</td>\n",
       "    </tr>\n",
       "    <tr>\n",
       "      <th>6</th>\n",
       "      <td>1999-01-16</td>\n",
       "      <td>$67 Million</td>\n",
       "      <td>67.0</td>\n",
       "    </tr>\n",
       "  </tbody>\n",
       "</table>\n",
       "</div>"
      ],
      "text/plain": [
       "  Drawing Date Estimated Jackpot  Jackpot Value (Millions)\n",
       "0   1999-01-02       $40 Million                      40.0\n",
       "2   1999-01-06       $45 Million                      45.0\n",
       "3   1999-01-09       $51 Million                      51.0\n",
       "5   1999-01-13       $58 Million                      58.0\n",
       "6   1999-01-16       $67 Million                      67.0"
      ]
     },
     "execution_count": 31,
     "metadata": {},
     "output_type": "execute_result"
    }
   ],
   "source": [
    "# Cast Drawing Date as a datetime\n",
    "powerball_df_clean['Drawing Date'] = pd.to_datetime(powerball_df_clean['Drawing Date'])\n",
    "\n",
    "# Display the first few rows to confirm the change\n",
    "powerball_df_clean.head()"
   ]
  },
  {
   "cell_type": "code",
   "execution_count": 32,
   "metadata": {
    "scrolled": false
   },
   "outputs": [
    {
     "data": {
      "text/plain": [
       "Drawing Date                datetime64[ns]\n",
       "Estimated Jackpot                   object\n",
       "Jackpot Value (Millions)           float64\n",
       "dtype: object"
      ]
     },
     "execution_count": 32,
     "metadata": {},
     "output_type": "execute_result"
    }
   ],
   "source": [
    "#Check datatypes\n",
    "powerball_df_clean.dtypes"
   ]
  },
  {
   "cell_type": "markdown",
   "metadata": {},
   "source": [
    "Datatypes are suitable for the purposes of this study. The weekday of drawing was lost when converting `Drawing Date` to a datetime. It is not expected to be needed, but it can easily be calculated from the date if needed in the future."
   ]
  },
  {
   "cell_type": "code",
   "execution_count": 33,
   "metadata": {
    "scrolled": true
   },
   "outputs": [
    {
     "data": {
      "text/html": [
       "<div>\n",
       "<style scoped>\n",
       "    .dataframe tbody tr th:only-of-type {\n",
       "        vertical-align: middle;\n",
       "    }\n",
       "\n",
       "    .dataframe tbody tr th {\n",
       "        vertical-align: top;\n",
       "    }\n",
       "\n",
       "    .dataframe thead th {\n",
       "        text-align: right;\n",
       "    }\n",
       "</style>\n",
       "<table border=\"1\" class=\"dataframe\">\n",
       "  <thead>\n",
       "    <tr style=\"text-align: right;\">\n",
       "      <th></th>\n",
       "      <th>Drawing Date</th>\n",
       "      <th>Jackpot Value (Millions)</th>\n",
       "    </tr>\n",
       "  </thead>\n",
       "  <tbody>\n",
       "    <tr>\n",
       "      <th>0</th>\n",
       "      <td>1999-01-02</td>\n",
       "      <td>40.0</td>\n",
       "    </tr>\n",
       "    <tr>\n",
       "      <th>2</th>\n",
       "      <td>1999-01-06</td>\n",
       "      <td>45.0</td>\n",
       "    </tr>\n",
       "    <tr>\n",
       "      <th>3</th>\n",
       "      <td>1999-01-09</td>\n",
       "      <td>51.0</td>\n",
       "    </tr>\n",
       "    <tr>\n",
       "      <th>5</th>\n",
       "      <td>1999-01-13</td>\n",
       "      <td>58.0</td>\n",
       "    </tr>\n",
       "    <tr>\n",
       "      <th>6</th>\n",
       "      <td>1999-01-16</td>\n",
       "      <td>67.0</td>\n",
       "    </tr>\n",
       "  </tbody>\n",
       "</table>\n",
       "</div>"
      ],
      "text/plain": [
       "  Drawing Date  Jackpot Value (Millions)\n",
       "0   1999-01-02                      40.0\n",
       "2   1999-01-06                      45.0\n",
       "3   1999-01-09                      51.0\n",
       "5   1999-01-13                      58.0\n",
       "6   1999-01-16                      67.0"
      ]
     },
     "execution_count": 33,
     "metadata": {},
     "output_type": "execute_result"
    }
   ],
   "source": [
    "# Estimated Jackpot column is no longer needed.\n",
    "powerball_df_clean = powerball_df_clean.drop(columns=['Estimated Jackpot'])\n",
    "\n",
    "# Look at the first few rows\n",
    "powerball_df_clean.head()"
   ]
  },
  {
   "cell_type": "markdown",
   "metadata": {},
   "source": [
    "### Cleaning Dataset 2: `deaths_df`\n",
    "#### Quality Issue 2\n",
    "*  Accuracy `'Unknown'` in `Weekday` is not needed and biases the dataset, as every instance of `'Unknown'` has 0 observations in the `Deaths` column.\n",
    "#### Tidyness Issue 2\n",
    "*  `Month` holds more than one variable\n",
    "\n",
    "#### Additional Issue\n",
    "*  Remove irrelavant columns\n",
    "*  Cast `Month` as a datetime"
   ]
  },
  {
   "cell_type": "markdown",
   "metadata": {},
   "source": [
    "### Quality Issue 2: Innacurate Data"
   ]
  },
  {
   "cell_type": "code",
   "execution_count": 34,
   "metadata": {
    "scrolled": true
   },
   "outputs": [
    {
     "data": {
      "text/plain": [
       "count    1848.000000\n",
       "mean      439.247835\n",
       "std        95.796359\n",
       "min       240.000000\n",
       "25%       364.750000\n",
       "50%       430.000000\n",
       "75%       502.000000\n",
       "max       749.000000\n",
       "Name: Deaths, dtype: float64"
      ]
     },
     "execution_count": 34,
     "metadata": {},
     "output_type": "execute_result"
    }
   ],
   "source": [
    "# Create a clean copy of the dataframe, exluding any rows where Weekday is equal to Unknown.\n",
    "deaths_df_clean = deaths_df[deaths_df['Weekday'] != 'Unknown']\n",
    "\n",
    "# Get a statistical description of the Deaths column, as this should have removed all 0 values.\n",
    "\n",
    "deaths_df_clean['Deaths'].describe()"
   ]
  },
  {
   "cell_type": "markdown",
   "metadata": {},
   "source": [
    "By removing the 0 values the mean has increased to 439.25 and the standard deviation has decreased to 95.80. The max value of 749 is now 3.2 standard deviations from the mean. However this still fits within the expected trend of the dataset.\n",
    "\n",
    "All zero values were removed from the `Deaths` column by excluding all rows with and `'Unknown'` value in the `Weekday` column. Assessment of the data demonstrated that all rows with `'Unknown'` in `Weekday` always had `'0'` observations in `Deaths` so exluding any rows where `Weekday` was equal to `'Unknown'` is effective for removing the innacurate data."
   ]
  },
  {
   "cell_type": "code",
   "execution_count": 35,
   "metadata": {},
   "outputs": [
    {
     "data": {
      "text/plain": [
       "count    1968.000000\n",
       "mean      412.464431\n",
       "std       140.249443\n",
       "min         0.000000\n",
       "25%       351.750000\n",
       "50%       421.000000\n",
       "75%       495.000000\n",
       "max       749.000000\n",
       "Name: Deaths, dtype: float64"
      ]
     },
     "execution_count": 35,
     "metadata": {},
     "output_type": "execute_result"
    }
   ],
   "source": [
    "deaths_df['Deaths'].describe()"
   ]
  },
  {
   "cell_type": "markdown",
   "metadata": {},
   "source": [
    "### Tidyness Issue 2: `Month` column has multiple variables\n",
    "The month column is functioning more like a truncated date by giving the date and year instead of just the month.\n",
    "\n",
    "This dataset has a limitation compared to the Powerball Drawings dataset: to protect privacy, the CDC only provides time data by weekday, not by specific calendar days. This means that each weekday could represent up to five different days within a month, making it impossible to match directly to a specific Powerball drawing.\n",
    "\n",
    "To address this, the dataset will be aggregated by month, summing up the total deaths. This will address the tidyness issue, and prepare the dataset to be combined with the Powerball data which will also be aggrated by month with the mean jackpot value.\n",
    "\n",
    "In the deaths_df the columns `Notes` `Population` and `Crude Rate` were demonstrated to be irrelevant, containing null values, or placeholder null values. In aggregating the dataframe these columns will be excluded. Additionally, `Year` `Year Code` `Month Code` `Weekday` and `Weekday Code` will be exlcuded, as they will no longer be relevant when considering only monthly aggregations."
   ]
  },
  {
   "cell_type": "code",
   "execution_count": 36,
   "metadata": {
    "scrolled": true
   },
   "outputs": [
    {
     "data": {
      "text/html": [
       "<div>\n",
       "<style scoped>\n",
       "    .dataframe tbody tr th:only-of-type {\n",
       "        vertical-align: middle;\n",
       "    }\n",
       "\n",
       "    .dataframe tbody tr th {\n",
       "        vertical-align: top;\n",
       "    }\n",
       "\n",
       "    .dataframe thead th {\n",
       "        text-align: right;\n",
       "    }\n",
       "</style>\n",
       "<table border=\"1\" class=\"dataframe\">\n",
       "  <thead>\n",
       "    <tr style=\"text-align: right;\">\n",
       "      <th></th>\n",
       "      <th>Notes</th>\n",
       "      <th>Year</th>\n",
       "      <th>Year Code</th>\n",
       "      <th>Month</th>\n",
       "      <th>Month Code</th>\n",
       "      <th>Weekday</th>\n",
       "      <th>Weekday Code</th>\n",
       "      <th>Deaths</th>\n",
       "      <th>Population</th>\n",
       "      <th>Crude Rate</th>\n",
       "    </tr>\n",
       "  </thead>\n",
       "  <tbody>\n",
       "    <tr>\n",
       "      <th>0</th>\n",
       "      <td>NaN</td>\n",
       "      <td>1999</td>\n",
       "      <td>1999</td>\n",
       "      <td>Jan., 1999</td>\n",
       "      <td>1999/01</td>\n",
       "      <td>Sunday</td>\n",
       "      <td>1</td>\n",
       "      <td>367</td>\n",
       "      <td>Not Applicable</td>\n",
       "      <td>Not Applicable</td>\n",
       "    </tr>\n",
       "    <tr>\n",
       "      <th>1</th>\n",
       "      <td>NaN</td>\n",
       "      <td>1999</td>\n",
       "      <td>1999</td>\n",
       "      <td>Jan., 1999</td>\n",
       "      <td>1999/01</td>\n",
       "      <td>Monday</td>\n",
       "      <td>2</td>\n",
       "      <td>356</td>\n",
       "      <td>Not Applicable</td>\n",
       "      <td>Not Applicable</td>\n",
       "    </tr>\n",
       "    <tr>\n",
       "      <th>2</th>\n",
       "      <td>NaN</td>\n",
       "      <td>1999</td>\n",
       "      <td>1999</td>\n",
       "      <td>Jan., 1999</td>\n",
       "      <td>1999/01</td>\n",
       "      <td>Tuesday</td>\n",
       "      <td>3</td>\n",
       "      <td>321</td>\n",
       "      <td>Not Applicable</td>\n",
       "      <td>Not Applicable</td>\n",
       "    </tr>\n",
       "    <tr>\n",
       "      <th>3</th>\n",
       "      <td>NaN</td>\n",
       "      <td>1999</td>\n",
       "      <td>1999</td>\n",
       "      <td>Jan., 1999</td>\n",
       "      <td>1999/01</td>\n",
       "      <td>Wednesday</td>\n",
       "      <td>4</td>\n",
       "      <td>321</td>\n",
       "      <td>Not Applicable</td>\n",
       "      <td>Not Applicable</td>\n",
       "    </tr>\n",
       "    <tr>\n",
       "      <th>4</th>\n",
       "      <td>NaN</td>\n",
       "      <td>1999</td>\n",
       "      <td>1999</td>\n",
       "      <td>Jan., 1999</td>\n",
       "      <td>1999/01</td>\n",
       "      <td>Thursday</td>\n",
       "      <td>5</td>\n",
       "      <td>326</td>\n",
       "      <td>Not Applicable</td>\n",
       "      <td>Not Applicable</td>\n",
       "    </tr>\n",
       "  </tbody>\n",
       "</table>\n",
       "</div>"
      ],
      "text/plain": [
       "   Notes  Year  Year Code       Month Month Code    Weekday  Weekday Code  \\\n",
       "0    NaN  1999       1999  Jan., 1999    1999/01     Sunday             1   \n",
       "1    NaN  1999       1999  Jan., 1999    1999/01     Monday             2   \n",
       "2    NaN  1999       1999  Jan., 1999    1999/01    Tuesday             3   \n",
       "3    NaN  1999       1999  Jan., 1999    1999/01  Wednesday             4   \n",
       "4    NaN  1999       1999  Jan., 1999    1999/01   Thursday             5   \n",
       "\n",
       "   Deaths      Population      Crude Rate  \n",
       "0     367  Not Applicable  Not Applicable  \n",
       "1     356  Not Applicable  Not Applicable  \n",
       "2     321  Not Applicable  Not Applicable  \n",
       "3     321  Not Applicable  Not Applicable  \n",
       "4     326  Not Applicable  Not Applicable  "
      ]
     },
     "execution_count": 36,
     "metadata": {},
     "output_type": "execute_result"
    }
   ],
   "source": [
    "deaths_df.head()"
   ]
  },
  {
   "cell_type": "code",
   "execution_count": 37,
   "metadata": {
    "scrolled": true
   },
   "outputs": [
    {
     "name": "stderr",
     "output_type": "stream",
     "text": [
      "/tmp/ipykernel_47/52007947.py:5: SettingWithCopyWarning: \n",
      "A value is trying to be set on a copy of a slice from a DataFrame.\n",
      "Try using .loc[row_indexer,col_indexer] = value instead\n",
      "\n",
      "See the caveats in the documentation: https://pandas.pydata.org/pandas-docs/stable/user_guide/indexing.html#returning-a-view-versus-a-copy\n",
      "  deaths_df_clean['Month'] = deaths_df['Month'].str.replace('.', '', regex=False)\n",
      "/tmp/ipykernel_47/52007947.py:8: UserWarning: Could not infer format, so each element will be parsed individually, falling back to `dateutil`. To ensure parsing is consistent and as-expected, please specify a format.\n",
      "  deaths_df_clean['Month'] = pd.to_datetime(deaths_df_clean['Month'])\n",
      "/tmp/ipykernel_47/52007947.py:8: SettingWithCopyWarning: \n",
      "A value is trying to be set on a copy of a slice from a DataFrame.\n",
      "Try using .loc[row_indexer,col_indexer] = value instead\n",
      "\n",
      "See the caveats in the documentation: https://pandas.pydata.org/pandas-docs/stable/user_guide/indexing.html#returning-a-view-versus-a-copy\n",
      "  deaths_df_clean['Month'] = pd.to_datetime(deaths_df_clean['Month'])\n"
     ]
    },
    {
     "data": {
      "text/html": [
       "<div>\n",
       "<style scoped>\n",
       "    .dataframe tbody tr th:only-of-type {\n",
       "        vertical-align: middle;\n",
       "    }\n",
       "\n",
       "    .dataframe tbody tr th {\n",
       "        vertical-align: top;\n",
       "    }\n",
       "\n",
       "    .dataframe thead th {\n",
       "        text-align: right;\n",
       "    }\n",
       "</style>\n",
       "<table border=\"1\" class=\"dataframe\">\n",
       "  <thead>\n",
       "    <tr style=\"text-align: right;\">\n",
       "      <th></th>\n",
       "      <th>Month</th>\n",
       "      <th>Deaths</th>\n",
       "    </tr>\n",
       "  </thead>\n",
       "  <tbody>\n",
       "    <tr>\n",
       "      <th>0</th>\n",
       "      <td>1999-01-01</td>\n",
       "      <td>2398</td>\n",
       "    </tr>\n",
       "    <tr>\n",
       "      <th>1</th>\n",
       "      <td>1999-02-01</td>\n",
       "      <td>2211</td>\n",
       "    </tr>\n",
       "    <tr>\n",
       "      <th>2</th>\n",
       "      <td>1999-03-01</td>\n",
       "      <td>2354</td>\n",
       "    </tr>\n",
       "    <tr>\n",
       "      <th>3</th>\n",
       "      <td>1999-04-01</td>\n",
       "      <td>2381</td>\n",
       "    </tr>\n",
       "    <tr>\n",
       "      <th>4</th>\n",
       "      <td>1999-05-01</td>\n",
       "      <td>2433</td>\n",
       "    </tr>\n",
       "  </tbody>\n",
       "</table>\n",
       "</div>"
      ],
      "text/plain": [
       "       Month  Deaths\n",
       "0 1999-01-01    2398\n",
       "1 1999-02-01    2211\n",
       "2 1999-03-01    2354\n",
       "3 1999-04-01    2381\n",
       "4 1999-05-01    2433"
      ]
     },
     "execution_count": 37,
     "metadata": {},
     "output_type": "execute_result"
    }
   ],
   "source": [
    "# Aggregate deaths_df by Month, taking the sum of the Deaths column for each month.\n",
    "\n",
    "\n",
    "# Remove the period from the Month column in deaths_df_clean so it can be cast as a datetime\n",
    "deaths_df_clean['Month'] = deaths_df['Month'].str.replace('.', '', regex=False)\n",
    "\n",
    "# Cast Month as datetime\n",
    "deaths_df_clean['Month'] = pd.to_datetime(deaths_df_clean['Month'])\n",
    "\n",
    "# Group by Month, summing Deaths\n",
    "deaths_df_clean = deaths_df_clean.groupby(['Month'], as_index=False)['Deaths'].sum()\n",
    "\n",
    "# Look at the first few rows\n",
    "deaths_df_clean.head()"
   ]
  },
  {
   "cell_type": "code",
   "execution_count": 38,
   "metadata": {
    "scrolled": true
   },
   "outputs": [
    {
     "data": {
      "text/html": [
       "<div>\n",
       "<style scoped>\n",
       "    .dataframe tbody tr th:only-of-type {\n",
       "        vertical-align: middle;\n",
       "    }\n",
       "\n",
       "    .dataframe tbody tr th {\n",
       "        vertical-align: top;\n",
       "    }\n",
       "\n",
       "    .dataframe thead th {\n",
       "        text-align: right;\n",
       "    }\n",
       "</style>\n",
       "<table border=\"1\" class=\"dataframe\">\n",
       "  <thead>\n",
       "    <tr style=\"text-align: right;\">\n",
       "      <th></th>\n",
       "      <th>month_start</th>\n",
       "      <th>Deaths</th>\n",
       "    </tr>\n",
       "  </thead>\n",
       "  <tbody>\n",
       "    <tr>\n",
       "      <th>0</th>\n",
       "      <td>1999-01-01</td>\n",
       "      <td>2398</td>\n",
       "    </tr>\n",
       "    <tr>\n",
       "      <th>1</th>\n",
       "      <td>1999-02-01</td>\n",
       "      <td>2211</td>\n",
       "    </tr>\n",
       "    <tr>\n",
       "      <th>2</th>\n",
       "      <td>1999-03-01</td>\n",
       "      <td>2354</td>\n",
       "    </tr>\n",
       "    <tr>\n",
       "      <th>3</th>\n",
       "      <td>1999-04-01</td>\n",
       "      <td>2381</td>\n",
       "    </tr>\n",
       "    <tr>\n",
       "      <th>4</th>\n",
       "      <td>1999-05-01</td>\n",
       "      <td>2433</td>\n",
       "    </tr>\n",
       "  </tbody>\n",
       "</table>\n",
       "</div>"
      ],
      "text/plain": [
       "  month_start  Deaths\n",
       "0  1999-01-01    2398\n",
       "1  1999-02-01    2211\n",
       "2  1999-03-01    2354\n",
       "3  1999-04-01    2381\n",
       "4  1999-05-01    2433"
      ]
     },
     "execution_count": 38,
     "metadata": {},
     "output_type": "execute_result"
    }
   ],
   "source": [
    "# Based on a limitation of the datatype datetime must include a day. \n",
    "# Rename the column to month_start for clarification\n",
    "\n",
    "deaths_df_clean.rename(columns={'Month': 'month_start'}, inplace=True)\n",
    "\n",
    "#Look at the first few reows to evaluate effect of rename\n",
    "deaths_df_clean.head()"
   ]
  },
  {
   "cell_type": "markdown",
   "metadata": {},
   "source": [
    "### Update `powerball_df_clean` and Merge DataFrames"
   ]
  },
  {
   "cell_type": "code",
   "execution_count": 39,
   "metadata": {
    "scrolled": true
   },
   "outputs": [
    {
     "data": {
      "text/html": [
       "<div>\n",
       "<style scoped>\n",
       "    .dataframe tbody tr th:only-of-type {\n",
       "        vertical-align: middle;\n",
       "    }\n",
       "\n",
       "    .dataframe tbody tr th {\n",
       "        vertical-align: top;\n",
       "    }\n",
       "\n",
       "    .dataframe thead th {\n",
       "        text-align: right;\n",
       "    }\n",
       "</style>\n",
       "<table border=\"1\" class=\"dataframe\">\n",
       "  <thead>\n",
       "    <tr style=\"text-align: right;\">\n",
       "      <th></th>\n",
       "      <th>Drawing Date</th>\n",
       "      <th>Jackpot Value (Millions)</th>\n",
       "      <th>Year-Month</th>\n",
       "    </tr>\n",
       "  </thead>\n",
       "  <tbody>\n",
       "    <tr>\n",
       "      <th>0</th>\n",
       "      <td>1999-01-02</td>\n",
       "      <td>40.0</td>\n",
       "      <td>1999-01</td>\n",
       "    </tr>\n",
       "    <tr>\n",
       "      <th>2</th>\n",
       "      <td>1999-01-06</td>\n",
       "      <td>45.0</td>\n",
       "      <td>1999-01</td>\n",
       "    </tr>\n",
       "    <tr>\n",
       "      <th>3</th>\n",
       "      <td>1999-01-09</td>\n",
       "      <td>51.0</td>\n",
       "      <td>1999-01</td>\n",
       "    </tr>\n",
       "    <tr>\n",
       "      <th>5</th>\n",
       "      <td>1999-01-13</td>\n",
       "      <td>58.0</td>\n",
       "      <td>1999-01</td>\n",
       "    </tr>\n",
       "    <tr>\n",
       "      <th>6</th>\n",
       "      <td>1999-01-16</td>\n",
       "      <td>67.0</td>\n",
       "      <td>1999-01</td>\n",
       "    </tr>\n",
       "  </tbody>\n",
       "</table>\n",
       "</div>"
      ],
      "text/plain": [
       "  Drawing Date  Jackpot Value (Millions) Year-Month\n",
       "0   1999-01-02                      40.0    1999-01\n",
       "2   1999-01-06                      45.0    1999-01\n",
       "3   1999-01-09                      51.0    1999-01\n",
       "5   1999-01-13                      58.0    1999-01\n",
       "6   1999-01-16                      67.0    1999-01"
      ]
     },
     "execution_count": 39,
     "metadata": {},
     "output_type": "execute_result"
    }
   ],
   "source": [
    "## powerball_df_clean will be aggregated by month.\n",
    "## extract the Month and Year from the date\n",
    "powerball_df_clean['Year-Month'] = powerball_df_clean['Drawing Date'].dt.to_period('M')\n",
    "\n",
    "# Check the results\n",
    "powerball_df_clean.head()"
   ]
  },
  {
   "cell_type": "code",
   "execution_count": 40,
   "metadata": {
    "scrolled": true
   },
   "outputs": [
    {
     "data": {
      "text/html": [
       "<div>\n",
       "<style scoped>\n",
       "    .dataframe tbody tr th:only-of-type {\n",
       "        vertical-align: middle;\n",
       "    }\n",
       "\n",
       "    .dataframe tbody tr th {\n",
       "        vertical-align: top;\n",
       "    }\n",
       "\n",
       "    .dataframe thead th {\n",
       "        text-align: right;\n",
       "    }\n",
       "</style>\n",
       "<table border=\"1\" class=\"dataframe\">\n",
       "  <thead>\n",
       "    <tr style=\"text-align: right;\">\n",
       "      <th></th>\n",
       "      <th>Year-Month</th>\n",
       "      <th>Jackpot Value (Millions)</th>\n",
       "    </tr>\n",
       "  </thead>\n",
       "  <tbody>\n",
       "    <tr>\n",
       "      <th>0</th>\n",
       "      <td>1999-01</td>\n",
       "      <td>34.777778</td>\n",
       "    </tr>\n",
       "    <tr>\n",
       "      <th>1</th>\n",
       "      <td>1999-02</td>\n",
       "      <td>17.875000</td>\n",
       "    </tr>\n",
       "    <tr>\n",
       "      <th>2</th>\n",
       "      <td>1999-03</td>\n",
       "      <td>40.333333</td>\n",
       "    </tr>\n",
       "    <tr>\n",
       "      <th>3</th>\n",
       "      <td>1999-04</td>\n",
       "      <td>24.375000</td>\n",
       "    </tr>\n",
       "    <tr>\n",
       "      <th>4</th>\n",
       "      <td>1999-05</td>\n",
       "      <td>23.000000</td>\n",
       "    </tr>\n",
       "  </tbody>\n",
       "</table>\n",
       "</div>"
      ],
      "text/plain": [
       "  Year-Month  Jackpot Value (Millions)\n",
       "0    1999-01                 34.777778\n",
       "1    1999-02                 17.875000\n",
       "2    1999-03                 40.333333\n",
       "3    1999-04                 24.375000\n",
       "4    1999-05                 23.000000"
      ]
     },
     "execution_count": 40,
     "metadata": {},
     "output_type": "execute_result"
    }
   ],
   "source": [
    "# Aggregate the values and take the mean of the jackpot value for each month.\n",
    "powerball_df_clean = powerball_df_clean.groupby(['Year-Month'], as_index=False)['Jackpot Value (Millions)'].mean()\n",
    "\n",
    "# Look at the result\n",
    "powerball_df_clean.head()"
   ]
  },
  {
   "cell_type": "code",
   "execution_count": 41,
   "metadata": {
    "scrolled": true
   },
   "outputs": [
    {
     "data": {
      "text/html": [
       "<div>\n",
       "<style scoped>\n",
       "    .dataframe tbody tr th:only-of-type {\n",
       "        vertical-align: middle;\n",
       "    }\n",
       "\n",
       "    .dataframe tbody tr th {\n",
       "        vertical-align: top;\n",
       "    }\n",
       "\n",
       "    .dataframe thead th {\n",
       "        text-align: right;\n",
       "    }\n",
       "</style>\n",
       "<table border=\"1\" class=\"dataframe\">\n",
       "  <thead>\n",
       "    <tr style=\"text-align: right;\">\n",
       "      <th></th>\n",
       "      <th>Jackpot Value (Millions)</th>\n",
       "      <th>month_start</th>\n",
       "    </tr>\n",
       "  </thead>\n",
       "  <tbody>\n",
       "    <tr>\n",
       "      <th>0</th>\n",
       "      <td>34.777778</td>\n",
       "      <td>1999-01-01</td>\n",
       "    </tr>\n",
       "    <tr>\n",
       "      <th>1</th>\n",
       "      <td>17.875000</td>\n",
       "      <td>1999-02-01</td>\n",
       "    </tr>\n",
       "    <tr>\n",
       "      <th>2</th>\n",
       "      <td>40.333333</td>\n",
       "      <td>1999-03-01</td>\n",
       "    </tr>\n",
       "    <tr>\n",
       "      <th>3</th>\n",
       "      <td>24.375000</td>\n",
       "      <td>1999-04-01</td>\n",
       "    </tr>\n",
       "    <tr>\n",
       "      <th>4</th>\n",
       "      <td>23.000000</td>\n",
       "      <td>1999-05-01</td>\n",
       "    </tr>\n",
       "  </tbody>\n",
       "</table>\n",
       "</div>"
      ],
      "text/plain": [
       "   Jackpot Value (Millions) month_start\n",
       "0                 34.777778  1999-01-01\n",
       "1                 17.875000  1999-02-01\n",
       "2                 40.333333  1999-03-01\n",
       "3                 24.375000  1999-04-01\n",
       "4                 23.000000  1999-05-01"
      ]
     },
     "execution_count": 41,
     "metadata": {},
     "output_type": "execute_result"
    }
   ],
   "source": [
    "# Cast Year-Month as a datetime in a column named month_start to align with deaths_df_clean dataframe\n",
    "powerball_df_clean['month_start'] = pd.to_datetime(powerball_df_clean['Year-Month'].astype(str), format='%Y-%m')\n",
    "\n",
    "# Drop the Year-Month column\n",
    "powerball_df_clean.drop(columns=['Year-Month'], inplace=True)\n",
    "\n",
    "# Look at the result\n",
    "powerball_df_clean.head()"
   ]
  },
  {
   "cell_type": "code",
   "execution_count": 42,
   "metadata": {},
   "outputs": [
    {
     "data": {
      "text/html": [
       "<div>\n",
       "<style scoped>\n",
       "    .dataframe tbody tr th:only-of-type {\n",
       "        vertical-align: middle;\n",
       "    }\n",
       "\n",
       "    .dataframe tbody tr th {\n",
       "        vertical-align: top;\n",
       "    }\n",
       "\n",
       "    .dataframe thead th {\n",
       "        text-align: right;\n",
       "    }\n",
       "</style>\n",
       "<table border=\"1\" class=\"dataframe\">\n",
       "  <thead>\n",
       "    <tr style=\"text-align: right;\">\n",
       "      <th></th>\n",
       "      <th>jackpot_millions</th>\n",
       "      <th>month_start</th>\n",
       "    </tr>\n",
       "  </thead>\n",
       "  <tbody>\n",
       "    <tr>\n",
       "      <th>0</th>\n",
       "      <td>34.777778</td>\n",
       "      <td>1999-01-01</td>\n",
       "    </tr>\n",
       "    <tr>\n",
       "      <th>1</th>\n",
       "      <td>17.875000</td>\n",
       "      <td>1999-02-01</td>\n",
       "    </tr>\n",
       "    <tr>\n",
       "      <th>2</th>\n",
       "      <td>40.333333</td>\n",
       "      <td>1999-03-01</td>\n",
       "    </tr>\n",
       "    <tr>\n",
       "      <th>3</th>\n",
       "      <td>24.375000</td>\n",
       "      <td>1999-04-01</td>\n",
       "    </tr>\n",
       "    <tr>\n",
       "      <th>4</th>\n",
       "      <td>23.000000</td>\n",
       "      <td>1999-05-01</td>\n",
       "    </tr>\n",
       "  </tbody>\n",
       "</table>\n",
       "</div>"
      ],
      "text/plain": [
       "   jackpot_millions month_start\n",
       "0         34.777778  1999-01-01\n",
       "1         17.875000  1999-02-01\n",
       "2         40.333333  1999-03-01\n",
       "3         24.375000  1999-04-01\n",
       "4         23.000000  1999-05-01"
      ]
     },
     "execution_count": 42,
     "metadata": {},
     "output_type": "execute_result"
    }
   ],
   "source": [
    "# Rename Jackpot Value (Millions) to be more consistent\n",
    "powerball_df_clean.rename(columns={'Jackpot Value (Millions)': 'jackpot_millions'}, inplace=True)\n",
    "\n",
    "# Look at the results\n",
    "powerball_df_clean.head()"
   ]
  },
  {
   "cell_type": "code",
   "execution_count": 43,
   "metadata": {},
   "outputs": [
    {
     "data": {
      "text/html": [
       "<div>\n",
       "<style scoped>\n",
       "    .dataframe tbody tr th:only-of-type {\n",
       "        vertical-align: middle;\n",
       "    }\n",
       "\n",
       "    .dataframe tbody tr th {\n",
       "        vertical-align: top;\n",
       "    }\n",
       "\n",
       "    .dataframe thead th {\n",
       "        text-align: right;\n",
       "    }\n",
       "</style>\n",
       "<table border=\"1\" class=\"dataframe\">\n",
       "  <thead>\n",
       "    <tr style=\"text-align: right;\">\n",
       "      <th></th>\n",
       "      <th>jackpot_millions</th>\n",
       "      <th>month_start</th>\n",
       "      <th>Deaths</th>\n",
       "    </tr>\n",
       "  </thead>\n",
       "  <tbody>\n",
       "    <tr>\n",
       "      <th>0</th>\n",
       "      <td>34.777778</td>\n",
       "      <td>1999-01-01</td>\n",
       "      <td>2398</td>\n",
       "    </tr>\n",
       "    <tr>\n",
       "      <th>1</th>\n",
       "      <td>17.875000</td>\n",
       "      <td>1999-02-01</td>\n",
       "      <td>2211</td>\n",
       "    </tr>\n",
       "    <tr>\n",
       "      <th>2</th>\n",
       "      <td>40.333333</td>\n",
       "      <td>1999-03-01</td>\n",
       "      <td>2354</td>\n",
       "    </tr>\n",
       "    <tr>\n",
       "      <th>3</th>\n",
       "      <td>24.375000</td>\n",
       "      <td>1999-04-01</td>\n",
       "      <td>2381</td>\n",
       "    </tr>\n",
       "    <tr>\n",
       "      <th>4</th>\n",
       "      <td>23.000000</td>\n",
       "      <td>1999-05-01</td>\n",
       "      <td>2433</td>\n",
       "    </tr>\n",
       "  </tbody>\n",
       "</table>\n",
       "</div>"
      ],
      "text/plain": [
       "   jackpot_millions month_start  Deaths\n",
       "0         34.777778  1999-01-01    2398\n",
       "1         17.875000  1999-02-01    2211\n",
       "2         40.333333  1999-03-01    2354\n",
       "3         24.375000  1999-04-01    2381\n",
       "4         23.000000  1999-05-01    2433"
      ]
     },
     "execution_count": 43,
     "metadata": {},
     "output_type": "execute_result"
    }
   ],
   "source": [
    "# Merge the dataframes\n",
    "df = pd.merge(powerball_df_clean, deaths_df_clean, on='month_start', how='inner')\n",
    "\n",
    "# look at the first few rows of the merged df\n",
    "df.head()"
   ]
  },
  {
   "cell_type": "code",
   "execution_count": 44,
   "metadata": {},
   "outputs": [
    {
     "data": {
      "text/html": [
       "<div>\n",
       "<style scoped>\n",
       "    .dataframe tbody tr th:only-of-type {\n",
       "        vertical-align: middle;\n",
       "    }\n",
       "\n",
       "    .dataframe tbody tr th {\n",
       "        vertical-align: top;\n",
       "    }\n",
       "\n",
       "    .dataframe thead th {\n",
       "        text-align: right;\n",
       "    }\n",
       "</style>\n",
       "<table border=\"1\" class=\"dataframe\">\n",
       "  <thead>\n",
       "    <tr style=\"text-align: right;\">\n",
       "      <th></th>\n",
       "      <th>month_start</th>\n",
       "      <th>jackpot_millions</th>\n",
       "      <th>Deaths</th>\n",
       "    </tr>\n",
       "  </thead>\n",
       "  <tbody>\n",
       "    <tr>\n",
       "      <th>0</th>\n",
       "      <td>1999-01-01</td>\n",
       "      <td>34.777778</td>\n",
       "      <td>2398</td>\n",
       "    </tr>\n",
       "    <tr>\n",
       "      <th>1</th>\n",
       "      <td>1999-02-01</td>\n",
       "      <td>17.875000</td>\n",
       "      <td>2211</td>\n",
       "    </tr>\n",
       "    <tr>\n",
       "      <th>2</th>\n",
       "      <td>1999-03-01</td>\n",
       "      <td>40.333333</td>\n",
       "      <td>2354</td>\n",
       "    </tr>\n",
       "    <tr>\n",
       "      <th>3</th>\n",
       "      <td>1999-04-01</td>\n",
       "      <td>24.375000</td>\n",
       "      <td>2381</td>\n",
       "    </tr>\n",
       "    <tr>\n",
       "      <th>4</th>\n",
       "      <td>1999-05-01</td>\n",
       "      <td>23.000000</td>\n",
       "      <td>2433</td>\n",
       "    </tr>\n",
       "  </tbody>\n",
       "</table>\n",
       "</div>"
      ],
      "text/plain": [
       "  month_start  jackpot_millions  Deaths\n",
       "0  1999-01-01         34.777778    2398\n",
       "1  1999-02-01         17.875000    2211\n",
       "2  1999-03-01         40.333333    2354\n",
       "3  1999-04-01         24.375000    2381\n",
       "4  1999-05-01         23.000000    2433"
      ]
     },
     "execution_count": 44,
     "metadata": {},
     "output_type": "execute_result"
    }
   ],
   "source": [
    "# Move month_start to be the first column\n",
    "cols = ['month_start'] + [col for col in df if col != 'month_start']\n",
    "df = df[cols]\n",
    "\n",
    "# Check the results\n",
    "df.head()"
   ]
  },
  {
   "cell_type": "markdown",
   "metadata": {
    "id": "F42urHuzttjF"
   },
   "source": [
    "## 4. Update your data store\n",
    "Update your local database/data store with the cleaned data, following best practices for storing your cleaned data:\n",
    "\n",
    "- Must maintain different instances / versions of data (raw and cleaned data)\n",
    "- Must name the dataset files informatively\n",
    "- Ensure both the raw and cleaned data is saved to your database/data store"
   ]
  },
  {
   "cell_type": "code",
   "execution_count": 45,
   "metadata": {
    "id": "V3uay7EJUV_L"
   },
   "outputs": [],
   "source": [
    "#save the DataFrame to a CSV\n",
    "df.to_csv('merged_df.csv', index=False)"
   ]
  },
  {
   "cell_type": "markdown",
   "metadata": {
    "id": "cGy_yddGtzhM"
   },
   "source": [
    "## 5. Answer the research question\n",
    "\n",
    "### **5.1:** Define and answer the research question \n",
    "Going back to the problem statement in step 1, use the cleaned data to answer the question you raised. Produce **at least** two visualizations using the cleaned data and explain how they help you answer the question."
   ]
  },
  {
   "cell_type": "markdown",
   "metadata": {
    "id": "gjedE4s4ZkEd"
   },
   "source": [
    "*Research question:* FILL IN from answer to Step 1"
   ]
  },
  {
   "cell_type": "code",
   "execution_count": 46,
   "metadata": {},
   "outputs": [
    {
     "data": {
      "text/html": [
       "<div>\n",
       "<style scoped>\n",
       "    .dataframe tbody tr th:only-of-type {\n",
       "        vertical-align: middle;\n",
       "    }\n",
       "\n",
       "    .dataframe tbody tr th {\n",
       "        vertical-align: top;\n",
       "    }\n",
       "\n",
       "    .dataframe thead th {\n",
       "        text-align: right;\n",
       "    }\n",
       "</style>\n",
       "<table border=\"1\" class=\"dataframe\">\n",
       "  <thead>\n",
       "    <tr style=\"text-align: right;\">\n",
       "      <th></th>\n",
       "      <th>month_start</th>\n",
       "      <th>jackpot_millions</th>\n",
       "      <th>Deaths</th>\n",
       "    </tr>\n",
       "  </thead>\n",
       "  <tbody>\n",
       "    <tr>\n",
       "      <th>0</th>\n",
       "      <td>1999-01-01</td>\n",
       "      <td>0.047559</td>\n",
       "      <td>0.116889</td>\n",
       "    </tr>\n",
       "    <tr>\n",
       "      <th>1</th>\n",
       "      <td>1999-02-01</td>\n",
       "      <td>0.009279</td>\n",
       "      <td>0.027672</td>\n",
       "    </tr>\n",
       "    <tr>\n",
       "      <th>2</th>\n",
       "      <td>1999-03-01</td>\n",
       "      <td>0.060141</td>\n",
       "      <td>0.095897</td>\n",
       "    </tr>\n",
       "    <tr>\n",
       "      <th>3</th>\n",
       "      <td>1999-04-01</td>\n",
       "      <td>0.024000</td>\n",
       "      <td>0.108779</td>\n",
       "    </tr>\n",
       "    <tr>\n",
       "      <th>4</th>\n",
       "      <td>1999-05-01</td>\n",
       "      <td>0.020886</td>\n",
       "      <td>0.133588</td>\n",
       "    </tr>\n",
       "  </tbody>\n",
       "</table>\n",
       "</div>"
      ],
      "text/plain": [
       "  month_start  jackpot_millions    Deaths\n",
       "0  1999-01-01          0.047559  0.116889\n",
       "1  1999-02-01          0.009279  0.027672\n",
       "2  1999-03-01          0.060141  0.095897\n",
       "3  1999-04-01          0.024000  0.108779\n",
       "4  1999-05-01          0.020886  0.133588"
      ]
     },
     "execution_count": 46,
     "metadata": {},
     "output_type": "execute_result"
    }
   ],
   "source": [
    "# Normalize the data for easier plotting\n",
    "scaler = MinMaxScaler()\n",
    "df[['jackpot_millions', 'Deaths']] = scaler.fit_transform(df[['jackpot_millions', 'Deaths']])\n",
    "#Check the Results\n",
    "df.head()"
   ]
  },
  {
   "cell_type": "code",
   "execution_count": 47,
   "metadata": {
    "id": "Lkw3rW9kZmOm",
    "scrolled": true
   },
   "outputs": [
    {
     "data": {
      "image/png": "[encoded data removed]",
      "text/plain": [
       "<Figure size 400x400 with 1 Axes>"
      ]
     },
     "metadata": {},
     "output_type": "display_data"
    }
   ],
   "source": [
    "df.plot(x='jackpot_millions', y='Deaths', kind='scatter', figsize=(4,4));\n"
   ]
  },
  {
   "cell_type": "markdown",
   "metadata": {},
   "source": [
    "*Answer to research question:* FILL IN"
   ]
  },
  {
   "cell_type": "code",
   "execution_count": 48,
   "metadata": {
    "id": "6fdK_8ZGZm9R"
   },
   "outputs": [
    {
     "data": {
      "image/png": "[encoded data removed]",
      "text/plain": [
       "<Figure size 640x480 with 1 Axes>"
      ]
     },
     "metadata": {},
     "output_type": "display_data"
    }
   ],
   "source": [
    "# Plot date and deaths\n",
    "ax = df.plot(x='month_start', y='Deaths', label='Deaths')\n",
    "\n",
    "# Plot the second line on the same axes\n",
    "df.plot(x='month_start', y='jackpot_millions', ax=ax, label='Jackpot', color='orange')\n",
    "\n",
    "# Display the legend\n",
    "ax.legend();"
   ]
  },
  {
   "cell_type": "code",
   "execution_count": 49,
   "metadata": {},
   "outputs": [
    {
     "name": "stdout",
     "output_type": "stream",
     "text": [
      "Correlation coefficient: 0.5572702534729437\n"
     ]
    }
   ],
   "source": [
    "#Calculate the correlation coefficient\n",
    "correlation = df['jackpot_millions'].corr(df['Deaths'])\n",
    "print(f\"Correlation coefficient: {correlation}\")"
   ]
  },
  {
   "cell_type": "markdown",
   "metadata": {
    "id": "K5RgvMGUZoHn"
   },
   "source": [
    "**Answer to research question:** While there may be anecdotal cases of suicide attributed to losing a high-value Powerball lottery drawing, the available data does not demonstrate a significant correlation. The scatter plot, line graph, and correlation coefficient indicate a moderate correlation between monthly deaths by suicide and the average monthly Powerball jackpot value.\n",
    "\n",
    "The correlation coefficient of 0.56 suggests a moderate relationship. However, this correlation might be influenced by an increase in population over time rather than a direct causal relationship. I believe additional study is warranted. Evaluating data on deaths by suicide per week or calendar day (if it becomes available) could provide the necessary detail to assess whether there is a stronger correlation between suicide deaths and larger Powerball jackpots. "
   ]
  },
  {
   "cell_type": "markdown",
   "metadata": {
    "id": "0ezWXXZVj-TP"
   },
   "source": [
    "### **5.2:** Reflection\n",
    "In 2-4 sentences, if you had more time to complete the project, what actions would you take? For example, which data quality and structural issues would you look into further, and what research questions would you further explore?"
   ]
  },
  {
   "cell_type": "markdown",
   "metadata": {
    "id": "XB3RBDG5kFe1"
   },
   "source": [
    "*Answer:* \n",
    "Given more time I would look at \n",
    "* Individual drawings against the average number of suicide deaths in that month\n",
    "* Tickets may be purchased for several drawings at a time. If a ticket is purchased for Monday, Wednseday, and conlcudes on Satuday, I would expect to see an increase in suicide deaths on Saturdays only. Evaluating only the deaths on Saturdays or only on the days of drawings may provide an additional layer of insight.\n",
    "* I would like to have found a better data source that gives suicide deaths by week or calendar day.\n",
    "* Limit the data only to states where the lottery is played.\n"
   ]
  }
 ],
 "metadata": {
  "colab": {
   "provenance": []
  },
  "kernelspec": {
   "display_name": "Python 3 (ipykernel)",
   "language": "python",
   "name": "python3"
  },
  "language_info": {
   "codemirror_mode": {
    "name": "ipython",
    "version": 3
   },
   "file_extension": ".py",
   "mimetype": "text/x-python",
   "name": "python",
   "nbconvert_exporter": "python",
   "pygments_lexer": "ipython3",
   "version": "3.10.11"
  }
 },
 "nbformat": 4,
 "nbformat_minor": 1
}
